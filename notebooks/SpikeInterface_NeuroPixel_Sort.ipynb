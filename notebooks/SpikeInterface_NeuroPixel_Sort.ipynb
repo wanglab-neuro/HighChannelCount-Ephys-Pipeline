{
 "cells": [
  {
   "cell_type": "code",
   "execution_count": null,
   "metadata": {
    "tags": []
   },
   "outputs": [],
   "source": [
    "import spikeinterface as si\n",
    "import spikeinterface.sorters as ss\n",
    "import spikeinterface.extractors as se \n",
    "from pathlib import Path"
   ]
  },
  {
   "cell_type": "code",
   "execution_count": null,
   "metadata": {
    "tags": []
   },
   "outputs": [],
   "source": [
    "# DONE\n",
    "# sc014\\sc014_0324\\sc014_0324_001\n",
    "# sc014\\sc014_0325\\sc014_0325_001\n",
    "\n",
    "# base_folder = Path(r\"/scratch2/scratch/Wed/vincent/whisker_asym/sc014/sc014_0325/sc014_0325_002\")\n",
    "# DONE\n",
    "# sc014\\sc014_0324\\sc014_0324_001\n",
    "# sc014\\sc014_0325\\sc014_0325_001\n",
    "# sc012\\sc012_0120\\sc012_0120_001\n",
    "\n",
    "base_folder = Path(r\"D:\\Vincent\\Data\\sc012\\sc012_0120\\sc012_0120_001\")\n",
    "file_path = base_folder.joinpath(\"Record Node 101\")"
   ]
  },
  {
   "cell_type": "code",
   "execution_count": null,
   "metadata": {
    "tags": []
   },
   "outputs": [],
   "source": [
    "from spikeinterface.core import ZarrRecordingExtractor"
   ]
  },
  {
   "cell_type": "code",
   "execution_count": null,
   "metadata": {
    "tags": []
   },
   "outputs": [],
   "source": [
    "zarr_folder = base_folder / \"preprocessed.zarr\"\n",
    "recording_saved = ZarrRecordingExtractor(root_path=zarr_folder)\n",
    "recording_saved"
   ]
  },
  {
   "cell_type": "code",
   "execution_count": null,
   "metadata": {},
   "outputs": [],
   "source": [
    "recording_concat = si.concatenate_recordings([recording_saved])"
   ]
  },
  {
   "cell_type": "code",
   "execution_count": null,
   "metadata": {},
   "outputs": [],
   "source": [
    "# ss.get_default_sorter_params('spykingcircus')"
   ]
  },
  {
   "cell_type": "code",
   "execution_count": null,
   "metadata": {},
   "outputs": [],
   "source": [
    "# sorter_params = dict(n_jobs=40, chunk_duration=\"1s\", progress_bar=True)"
   ]
  },
  {
   "cell_type": "code",
   "execution_count": null,
   "metadata": {
    "tags": []
   },
   "outputs": [],
   "source": [
    "# sorting_SC = ss.run_spykingcircus(recording_concat, \n",
    "#              output_folder=base_folder / 'results_SC',\n",
    "#              verbose=True, singularity_image=\"spikeinterface/spyking-circus-base:latest\")"
   ]
  },
  {
   "cell_type": "code",
   "execution_count": null,
   "metadata": {},
   "outputs": [],
   "source": [
    "ss.get_default_sorter_params('pykilosort')"
   ]
  },
  {
   "cell_type": "code",
   "execution_count": null,
   "metadata": {
    "tags": []
   },
   "outputs": [],
   "source": [
    "sorter_params = dict(n_jobs=80)\n",
    "# , chunk_duration=\"1s\", progress_bar=True) already default"
   ]
  },
  {
   "cell_type": "code",
   "execution_count": null,
   "metadata": {
    "tags": []
   },
   "outputs": [],
   "source": [
    "sorting_pyKS = ss.run_pykilosort(recording_saved,\n",
    "                            output_folder=base_folder / 'results_pyKS',\n",
    "                            verbose=True, singularity_image=\"spikeinterface/pykilosort-base:latest\",\n",
    "                            **sorter_params)"
   ]
  },
  {
   "cell_type": "code",
   "execution_count": null,
   "metadata": {
    "tags": []
   },
   "outputs": [],
   "source": [
    "ss.get_default_sorter_params('tridesclous')"
   ]
  },
  {
   "cell_type": "code",
   "execution_count": null,
   "metadata": {
    "tags": []
   },
   "outputs": [],
   "source": [
    "sorting_TDC = ss.run_tridesclous(recording_saved,\n",
    "                            output_folder=base_folder / 'results_TDC',\n",
    "                            verbose=True, **sorter_params) \n",
    "# sorting_TDC = ss.run_tridesclous(recording_concat,\n",
    "#                             output_folder=base_folder / 'results_TDC',\n",
    "#                             verbose=True, singularity_image=True) \n",
    "# # \"spikeinterface/tridesclous-base:latest\""
   ]
  },
  {
   "cell_type": "code",
   "execution_count": null,
   "metadata": {},
   "outputs": [],
   "source": [
    "# ss.get_default_sorter_params('herdingspikes')"
   ]
  },
  {
   "cell_type": "code",
   "execution_count": null,
   "metadata": {},
   "outputs": [],
   "source": [
    "# sorter_params = dict(num_com_centers=2, detect_threshold=20,\n",
    "#                 left_cutout_time=0.4, right_cutout_time=1.0,\n",
    "#                 maa=0, amp_evaluation_time=0.1, spk_evaluation_time=0.4,\n",
    "#                 ahpthr=0, decay_filtering=True, save_all=True)"
   ]
  },
  {
   "cell_type": "code",
   "execution_count": null,
   "metadata": {},
   "outputs": [],
   "source": [
    "# sorting_HS = ss.run_herdingspikes(recording_concat, \n",
    "#              output_folder=base_folder / 'results_HS',\n",
    "#              verbose=True, singularity_image=True)\n",
    "# # **sorter_params"
   ]
  },
  {
   "cell_type": "code",
   "execution_count": null,
   "metadata": {},
   "outputs": [],
   "source": [
    "# sorting_KS3 = ss.run_kilosort3(recording_concat, \n",
    "#                             output_folder=base_folder / 'results_KS3',\n",
    "#                             verbose=True, singularity_image=\"spikeinterface/kilosort3-compiled-base:latest\")"
   ]
  },
  {
   "cell_type": "code",
   "execution_count": null,
   "metadata": {},
   "outputs": [],
   "source": [
    "# sorting_KS2_5 = ss.run_kilosort2_5(recording_concat, \n",
    "#                             output_folder=base_folder / 'results_KS2_5',\n",
    "#                             verbose=True, singularity_image=\"spikeinterface/kilosort2_5-compiled-base:latest\")"
   ]
  },
  {
   "cell_type": "code",
   "execution_count": null,
   "metadata": {},
   "outputs": [],
   "source": [
    "# print(sorting_KS2_5)"
   ]
  },
  {
   "cell_type": "code",
   "execution_count": null,
   "metadata": {},
   "outputs": [],
   "source": [
    "# print(f'KS2.5 found {len(sorting_KS2_5.get_unit_ids())} units')"
   ]
  },
  {
   "cell_type": "code",
   "execution_count": null,
   "metadata": {},
   "outputs": [],
   "source": [
    "# sorting_KS2_5 = sorting_KS2_5.remove_empty_units()\n",
    "# print(f'KS2.5 found {len(sorting_KS2_5.get_unit_ids())} non-empty units')"
   ]
  },
  {
   "cell_type": "code",
   "execution_count": null,
   "metadata": {},
   "outputs": [],
   "source": [
    "ss.get_default_sorter_params('mountainsort4')"
   ]
  },
  {
   "cell_type": "code",
   "execution_count": null,
   "metadata": {},
   "outputs": [],
   "source": [
    "sorter_params = dict(num_workers=40)"
   ]
  },
  {
   "cell_type": "code",
   "execution_count": null,
   "metadata": {},
   "outputs": [],
   "source": [
    "sorting_MS4 = ss.run_mountainsort4(recording_concat, \n",
    "              output_folder=base_folder / 'results_MS4',\n",
    "              verbose=True, singularity_image=\"spikeinterface/mountainsort4-base:latest\", \n",
    "              **sorter_params)"
   ]
  },
  {
   "cell_type": "code",
   "execution_count": null,
   "metadata": {},
   "outputs": [],
   "source": [
    "ss.get_default_sorter_params('ironclust')"
   ]
  },
  {
   "cell_type": "code",
   "execution_count": null,
   "metadata": {},
   "outputs": [],
   "source": [
    "sorter_params = dict(n_jobs=40, chunk_duration=\"1s\", progress_bar=True)"
   ]
  },
  {
   "cell_type": "code",
   "execution_count": null,
   "metadata": {
    "tags": []
   },
   "outputs": [],
   "source": [
    "sorting_IC = ss.run_ironclust(recording_concat, \n",
    "              output_folder=base_folder / 'results_IC',\n",
    "              verbose=True, singularity_image=\"spikeinterface/ironclust-compiled-base:latest\", \n",
    "              **sorter_params)"
   ]
  },
  {
   "cell_type": "markdown",
   "metadata": {},
   "source": [
    "### Extract waveforms"
   ]
  },
  {
   "cell_type": "code",
   "execution_count": null,
   "metadata": {},
   "outputs": [],
   "source": [
    "# recording_saved = si.load_extractor(base_folder / \"preprocessed\")\n",
    "sorting = si.load_extractor(base_folder / \"results_pyKS\")\n",
    "print(sorting)"
   ]
  },
  {
   "cell_type": "code",
   "execution_count": null,
   "metadata": {
    "pycharm": {
     "name": "#%%\n"
    }
   },
   "outputs": [],
   "source": [
    "si.extract_waveforms?"
   ]
  },
  {
   "cell_type": "code",
   "execution_count": null,
   "metadata": {},
   "outputs": [],
   "source": [
    "job_kwargs = dict(n_jobs=30, chunk_duration=\"1s\", progress_bar=True)"
   ]
  },
  {
   "cell_type": "code",
   "execution_count": null,
   "metadata": {},
   "outputs": [],
   "source": [
    "we = si.extract_waveforms(recording_saved, sorting_pyKS, folder=base_folder / \"waveforms\", \n",
    "                          load_if_exists=False, overwrite=True, **job_kwargs)\n",
    "print(we)"
   ]
  },
  {
   "cell_type": "code",
   "execution_count": null,
   "metadata": {},
   "outputs": [],
   "source": [
    "waveforms0 = we.get_waveforms(unit_id=0)\n",
    "print(f\"Waveforms shape: {waveforms0.shape}\")\n",
    "template0 = we.get_template(unit_id=0)\n",
    "print(f\"Template shape: {template0.shape}\")\n",
    "all_templates = we.get_all_templates()\n",
    "print(f\"All templates shape: {all_templates.shape}\")"
   ]
  },
  {
   "cell_type": "code",
   "execution_count": null,
   "metadata": {},
   "outputs": [],
   "source": [
    "import spikeinterface.widgets as sw\n",
    "import matplotlib.pyplot as plt\n",
    "\n",
    "import warnings\n",
    "warnings.simplefilter(\"ignore\")\n",
    "\n",
    "%matplotlib widget"
   ]
  },
  {
   "cell_type": "code",
   "execution_count": null,
   "metadata": {},
   "outputs": [],
   "source": [
    "w = sw.plot_unit_templates(we, radius_um=30, backend=\"ipywidgets\")"
   ]
  },
  {
   "cell_type": "code",
   "execution_count": null,
   "metadata": {},
   "outputs": [],
   "source": [
    "for unit in sorting_pyKS.get_unit_ids():\n",
    "    waveforms = we.get_waveforms(unit_id=unit)\n",
    "    spiketrain = sorting_pyKS.get_unit_spike_train(unit)\n",
    "    print(f\"Unit {unit} - num waveforms: {waveforms.shape[0]} - num spikes: {len(spiketrain)}\")"
   ]
  },
  {
   "cell_type": "code",
   "execution_count": null,
   "metadata": {},
   "outputs": [],
   "source": [
    "we_all = si.extract_waveforms(recording_saved, sorting_pyKS, folder=base_folder / \"waveforms_all\", \n",
    "                              max_spikes_per_unit=None,\n",
    "                              overwrite=True,\n",
    "                              **job_kwargs)"
   ]
  },
  {
   "cell_type": "code",
   "execution_count": null,
   "metadata": {},
   "outputs": [],
   "source": [
    "for unit in sorting.get_unit_ids():\n",
    "    waveforms = we_all.get_waveforms(unit_id=unit)\n",
    "    spiketrain = sorting.get_unit_spike_train(unit)\n",
    "    print(f\"Unit {unit} - num waveforms: {waveforms.shape[0]} - num spikes: {len(spiketrain)}\")"
   ]
  }
 ],
 "metadata": {
  "kernelspec": {
   "display_name": "Python 3 (ipykernel)",
   "language": "python",
   "name": "python3"
  },
  "language_info": {
   "codemirror_mode": {
    "name": "ipython",
    "version": 3
   },
   "file_extension": ".py",
   "mimetype": "text/x-python",
   "name": "python",
   "nbconvert_exporter": "python",
   "pygments_lexer": "ipython3",
   "version": "3.9.15"
  },
  "pycharm": {
   "stem_cell": {
    "cell_type": "raw",
    "metadata": {
     "collapsed": false
    },
    "source": []
   }
  }
 },
 "nbformat": 4,
 "nbformat_minor": 4
}
