{
 "cells": [
  {
   "cell_type": "code",
   "execution_count": 5,
   "metadata": {},
   "outputs": [],
   "source": [
    "import spikeinterface as si\n",
    "import spikeinterface.sorters as ss\n",
    "import spikeinterface.extractors as se \n",
    "from pathlib import Path"
   ]
  },
  {
   "cell_type": "code",
   "execution_count": 2,
   "metadata": {},
   "outputs": [],
   "source": [
    "# base_folder = Path(r\"/scratch2/weka/wanglab/prevosto/data/sc012/sc012_0123/sc012_0123_001\")\n",
    "# file_path = base_folder.joinpath(\"Record Node 101\")\n",
    "\n",
    "base_folder = Path(r\"D:\\Vincent\\Data\\sc014\\sc014_0324\\sc014_0324_001\")\n",
    "file_path = base_folder.joinpath(\"Record Node 101\")"
   ]
  },
  {
   "cell_type": "code",
   "execution_count": 8,
   "metadata": {},
   "outputs": [],
   "source": [
    "from spikeinterface.core import ZarrRecordingExtractor"
   ]
  },
  {
   "cell_type": "code",
   "execution_count": 10,
   "metadata": {},
   "outputs": [],
   "source": [
    "zarr_folder = base_folder / \"preprocessed.zarr\"\n",
    "recording_saved = ZarrRecordingExtractor(root_path=zarr_folder)\n",
    "recording_saved"
   ]
  },
  {
   "cell_type": "code",
   "execution_count": 12,
   "metadata": {},
   "outputs": [],
   "source": [
    "recording_concat = si.concatenate_recordings([recording_saved])"
   ]
  },
  {
   "cell_type": "code",
   "execution_count": null,
   "metadata": {},
   "outputs": [],
   "source": [
    "# ss.get_default_sorter_params('spykingcircus')"
   ]
  },
  {
   "cell_type": "code",
   "execution_count": null,
   "metadata": {},
   "outputs": [],
   "source": [
    "# sorter_params = dict(n_jobs=40, chunk_duration=\"1s\", progress_bar=True)"
   ]
  },
  {
   "cell_type": "code",
   "execution_count": null,
   "metadata": {
    "tags": []
   },
   "outputs": [],
   "source": [
    "# sorting_SC = ss.run_spykingcircus(recording_concat, \n",
    "#              output_folder=base_folder / 'results_SC',\n",
    "#              verbose=True, singularity_image=\"spikeinterface/spyking-circus-base:latest\")"
   ]
  },
  {
   "cell_type": "code",
   "execution_count": 14,
   "metadata": {},
   "outputs": [
    {
     "data": {
      "text/plain": [
       "{'low_memory': False,\n",
       " 'seed': 42,\n",
       " 'preprocessing_function': 'kilosort2',\n",
       " 'save_drift_spike_detections': False,\n",
       " 'perform_drift_registration': False,\n",
       " 'do_whitening': True,\n",
       " 'save_temp_files': True,\n",
       " 'fshigh': 300.0,\n",
       " 'fslow': None,\n",
       " 'minfr_goodchannels': 0.1,\n",
       " 'genericSpkTh': 8.0,\n",
       " 'nblocks': 5,\n",
       " 'sig_datashift': 20.0,\n",
       " 'stable_mode': True,\n",
       " 'deterministic_mode': True,\n",
       " 'datashift': None,\n",
       " 'Th': [10, 4],\n",
       " 'ThPre': 8,\n",
       " 'lam': 10,\n",
       " 'minFR': 0.02,\n",
       " 'momentum': [20, 400],\n",
       " 'sigmaMask': 30,\n",
       " 'spkTh': -6,\n",
       " 'reorder': 1,\n",
       " 'nSkipCov': 25,\n",
       " 'ntbuff': 64,\n",
       " 'whiteningRange': 32,\n",
       " 'scaleproc': 200,\n",
       " 'nPCs': 3,\n",
       " 'nt0': 61,\n",
       " 'nup': 10,\n",
       " 'sig': 1,\n",
       " 'gain': 1,\n",
       " 'templateScaling': 20.0,\n",
       " 'loc_range': [5, 4],\n",
       " 'long_range': [30, 6],\n",
       " 'keep_good_only': False,\n",
       " 'n_jobs': 1,\n",
       " 'total_memory': None,\n",
       " 'chunk_size': None,\n",
       " 'chunk_memory': None,\n",
       " 'chunk_duration': '1s',\n",
       " 'progress_bar': True}"
      ]
     },
     "execution_count": 14,
     "metadata": {},
     "output_type": "execute_result"
    }
   ],
   "source": [
    "ss.get_default_sorter_params('pykilosort')"
   ]
  },
  {
   "cell_type": "code",
   "execution_count": null,
   "metadata": {},
   "outputs": [],
   "source": [
    "sorter_params = dict(n_jobs=30, chunk_duration=\"1s\", progress_bar=True)"
   ]
  },
  {
   "cell_type": "code",
   "execution_count": null,
   "metadata": {},
   "outputs": [],
   "source": [
    "sorting_pyKS = ss.run_pykilosort(recording_concat,\n",
    "                            output_folder=base_folder / 'results_pyKS',\n",
    "                            verbose=True, docker_image=\"spikeinterface/pykilosort-base:latest\",\n",
    "                            **sorter_params)"
   ]
  },
  {
   "cell_type": "code",
   "execution_count": null,
   "metadata": {},
   "outputs": [],
   "source": [
    "# ss.get_default_sorter_params('tridesclous')"
   ]
  },
  {
   "cell_type": "code",
   "execution_count": null,
   "metadata": {},
   "outputs": [],
   "source": [
    "# sorting_TDC = ss.run_tridesclous(recording_concat,\n",
    "#                             output_folder=base_folder / 'results_TDC',\n",
    "#                             verbose=True, singularity_image=True) \n",
    "# # \"spikeinterface/tridesclous-base:latest\""
   ]
  },
  {
   "cell_type": "code",
   "execution_count": null,
   "metadata": {},
   "outputs": [],
   "source": [
    "# ss.get_default_sorter_params('herdingspikes')"
   ]
  },
  {
   "cell_type": "code",
   "execution_count": null,
   "metadata": {},
   "outputs": [],
   "source": [
    "# sorter_params = dict(num_com_centers=2, detect_threshold=20,\n",
    "#                 left_cutout_time=0.4, right_cutout_time=1.0,\n",
    "#                 maa=0, amp_evaluation_time=0.1, spk_evaluation_time=0.4,\n",
    "#                 ahpthr=0, decay_filtering=True, save_all=True)"
   ]
  },
  {
   "cell_type": "code",
   "execution_count": null,
   "metadata": {},
   "outputs": [],
   "source": [
    "# sorting_HS = ss.run_herdingspikes(recording_concat, \n",
    "#              output_folder=base_folder / 'results_HS',\n",
    "#              verbose=True, singularity_image=True)\n",
    "# # **sorter_params"
   ]
  },
  {
   "cell_type": "code",
   "execution_count": null,
   "metadata": {},
   "outputs": [],
   "source": [
    "# sorting_KS3 = ss.run_kilosort3(recording_concat, \n",
    "#                             output_folder=base_folder / 'results_KS3',\n",
    "#                             verbose=True, singularity_image=\"spikeinterface/kilosort3-compiled-base:latest\")"
   ]
  },
  {
   "cell_type": "code",
   "execution_count": null,
   "metadata": {},
   "outputs": [],
   "source": [
    "# sorting_KS2_5 = ss.run_kilosort2_5(recording_concat, \n",
    "#                             output_folder=base_folder / 'results_KS2_5',\n",
    "#                             verbose=True, singularity_image=\"spikeinterface/kilosort2_5-compiled-base:latest\")"
   ]
  },
  {
   "cell_type": "code",
   "execution_count": null,
   "metadata": {},
   "outputs": [],
   "source": [
    "# print(sorting_KS2_5)"
   ]
  },
  {
   "cell_type": "code",
   "execution_count": null,
   "metadata": {},
   "outputs": [],
   "source": [
    "# print(f'KS2.5 found {len(sorting_KS2_5.get_unit_ids())} units')"
   ]
  },
  {
   "cell_type": "code",
   "execution_count": null,
   "metadata": {},
   "outputs": [],
   "source": [
    "# sorting_KS2_5 = sorting_KS2_5.remove_empty_units()\n",
    "# print(f'KS2.5 found {len(sorting_KS2_5.get_unit_ids())} non-empty units')"
   ]
  },
  {
   "cell_type": "code",
   "execution_count": null,
   "metadata": {},
   "outputs": [],
   "source": [
    "ss.get_default_sorter_params('mountainsort4')"
   ]
  },
  {
   "cell_type": "code",
   "execution_count": null,
   "metadata": {},
   "outputs": [],
   "source": [
    "sorter_params = dict(num_workers=40)"
   ]
  },
  {
   "cell_type": "code",
   "execution_count": null,
   "metadata": {},
   "outputs": [],
   "source": [
    "sorting_MS4 = ss.run_mountainsort4(recording_concat, \n",
    "              output_folder=base_folder / 'results_MS4',\n",
    "              verbose=True, singularity_image=\"spikeinterface/mountainsort4-base:latest\", \n",
    "              **sorter_params)"
   ]
  },
  {
   "cell_type": "code",
   "execution_count": null,
   "metadata": {},
   "outputs": [],
   "source": [
    "ss.get_default_sorter_params('ironclust')"
   ]
  },
  {
   "cell_type": "code",
   "execution_count": null,
   "metadata": {},
   "outputs": [],
   "source": [
    "sorter_params = dict(n_jobs=40, chunk_duration=\"1s\", progress_bar=True)"
   ]
  },
  {
   "cell_type": "code",
   "execution_count": null,
   "metadata": {
    "tags": []
   },
   "outputs": [],
   "source": [
    "sorting_IC = ss.run_ironclust(recording_concat, \n",
    "              output_folder=base_folder / 'results_IC',\n",
    "              verbose=True, singularity_image=\"spikeinterface/ironclust-compiled-base:latest\", \n",
    "              **sorter_params)"
   ]
  },
  {
   "cell_type": "markdown",
   "metadata": {},
   "source": [
    "### Extract waveforms"
   ]
  },
  {
   "cell_type": "code",
   "execution_count": null,
   "metadata": {},
   "outputs": [],
   "source": [
    "recording_saved = si.load_extractor(base_folder / \"preprocessed\")\n",
    "sorting = sorting_KS25\n",
    "print(sorting)"
   ]
  },
  {
   "cell_type": "code",
   "execution_count": null,
   "metadata": {
    "pycharm": {
     "name": "#%%\n"
    }
   },
   "outputs": [],
   "source": [
    "si.extract_waveforms?"
   ]
  },
  {
   "cell_type": "code",
   "execution_count": null,
   "metadata": {},
   "outputs": [],
   "source": [
    "we = si.extract_waveforms(recording_saved, sorting, folder=base_folder / \"waveforms\", \n",
    "                          load_if_exists=False, overwrite=True, **job_kwargs)\n",
    "print(we)"
   ]
  },
  {
   "cell_type": "code",
   "execution_count": null,
   "metadata": {},
   "outputs": [],
   "source": [
    "waveforms0 = we.get_waveforms(unit_id=0)\n",
    "print(f\"Waveforms shape: {waveforms0.shape}\")\n",
    "template0 = we.get_template(unit_id=0)\n",
    "print(f\"Template shape: {template0.shape}\")\n",
    "all_templates = we.get_all_templates()\n",
    "print(f\"All templates shape: {all_templates.shape}\")"
   ]
  },
  {
   "cell_type": "code",
   "execution_count": null,
   "metadata": {},
   "outputs": [],
   "source": [
    "w = sw.plot_unit_templates(we, radius_um=30, backend=\"ipywidgets\")"
   ]
  },
  {
   "cell_type": "code",
   "execution_count": null,
   "metadata": {},
   "outputs": [],
   "source": [
    "for unit in sorting.get_unit_ids():\n",
    "    waveforms = we.get_waveforms(unit_id=unit)\n",
    "    spiketrain = sorting.get_unit_spike_train(unit)\n",
    "    print(f\"Unit {unit} - num waveforms: {waveforms.shape[0]} - num spikes: {len(spiketrain)}\")"
   ]
  },
  {
   "cell_type": "code",
   "execution_count": null,
   "metadata": {},
   "outputs": [],
   "source": [
    "we_all = si.extract_waveforms(recording_saved, sorting, folder=base_folder / \"waveforms_all\", \n",
    "                              max_spikes_per_unit=None,\n",
    "                              overwrite=True,\n",
    "                              **job_kwargs)"
   ]
  },
  {
   "cell_type": "code",
   "execution_count": null,
   "metadata": {},
   "outputs": [],
   "source": [
    "for unit in sorting.get_unit_ids():\n",
    "    waveforms = we_all.get_waveforms(unit_id=unit)\n",
    "    spiketrain = sorting.get_unit_spike_train(unit)\n",
    "    print(f\"Unit {unit} - num waveforms: {waveforms.shape[0]} - num spikes: {len(spiketrain)}\")"
   ]
  }
 ],
 "metadata": {
  "kernelspec": {
   "display_name": "Python 3 (ipykernel)",
   "language": "python",
   "name": "python3"
  },
  "language_info": {
   "codemirror_mode": {
    "name": "ipython",
    "version": 3
   },
   "file_extension": ".py",
   "mimetype": "text/x-python",
   "name": "python",
   "nbconvert_exporter": "python",
   "pygments_lexer": "ipython3",
   "version": "3.9.15"
  },
  "pycharm": {
   "stem_cell": {
    "cell_type": "raw",
    "metadata": {
     "collapsed": false
    },
    "source": []
   }
  }
 },
 "nbformat": 4,
 "nbformat_minor": 4
}
