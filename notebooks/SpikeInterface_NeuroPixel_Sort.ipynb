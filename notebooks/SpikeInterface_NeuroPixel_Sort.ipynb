{
 "cells": [
  {
   "cell_type": "code",
   "execution_count": 2,
   "metadata": {},
   "outputs": [],
   "source": [
    "import spikeinterface as si\n",
    "import spikeinterface.sorters as ss\n",
    "import spikeinterface.extractors as se \n",
    "from pathlib import Path"
   ]
  },
  {
   "cell_type": "code",
   "execution_count": 3,
   "metadata": {},
   "outputs": [],
   "source": [
    "# base_folder = Path(r\"/scratch2/weka/wanglab/prevosto/data/sc012/sc012_0123/sc012_0123_001\")\n",
    "# file_path = base_folder.joinpath(\"Record Node 101\")\n",
    "\n",
    "# DONE\n",
    "# sc014\\sc014_0324\\sc014_0324_001\n",
    "# sc014\\sc014_0325\\sc014_0325_001\n",
    "# sc012\\sc012_0120\\sc012_0120_001\n",
    "\n",
    "base_folder = Path(r\"D:\\Vincent\\Data\\sc012\\sc012_0120\\sc012_0120_001\")\n",
    "file_path = base_folder.joinpath(\"Record Node 101\")"
   ]
  },
  {
   "cell_type": "code",
   "execution_count": 4,
   "metadata": {},
   "outputs": [],
   "source": [
    "from spikeinterface.core import ZarrRecordingExtractor"
   ]
  },
  {
   "cell_type": "code",
   "execution_count": 5,
   "metadata": {},
   "outputs": [
    {
     "data": {
      "text/plain": [
       "ZarrRecordingExtractor: 384 channels - 1 segments - 30.0kHz - 659.916s"
      ]
     },
     "execution_count": 5,
     "metadata": {},
     "output_type": "execute_result"
    }
   ],
   "source": [
    "zarr_folder = base_folder / \"preprocessed.zarr\"\n",
    "recording_saved = ZarrRecordingExtractor(root_path=zarr_folder)\n",
    "recording_saved"
   ]
  },
  {
   "cell_type": "code",
   "execution_count": 12,
   "metadata": {},
   "outputs": [],
   "source": [
    "recording_concat = si.concatenate_recordings([recording_saved])"
   ]
  },
  {
   "cell_type": "code",
   "execution_count": null,
   "metadata": {},
   "outputs": [],
   "source": [
    "# ss.get_default_sorter_params('spykingcircus')"
   ]
  },
  {
   "cell_type": "code",
   "execution_count": null,
   "metadata": {},
   "outputs": [],
   "source": [
    "# sorter_params = dict(n_jobs=40, chunk_duration=\"1s\", progress_bar=True)"
   ]
  },
  {
   "cell_type": "code",
   "execution_count": null,
   "metadata": {
    "tags": []
   },
   "outputs": [],
   "source": [
    "# sorting_SC = ss.run_spykingcircus(recording_concat, \n",
    "#              output_folder=base_folder / 'results_SC',\n",
    "#              verbose=True, singularity_image=\"spikeinterface/spyking-circus-base:latest\")"
   ]
  },
  {
   "cell_type": "code",
   "execution_count": null,
   "metadata": {},
   "outputs": [],
   "source": [
    "ss.get_default_sorter_params('pykilosort')"
   ]
  },
  {
   "cell_type": "code",
   "execution_count": 6,
   "metadata": {},
   "outputs": [],
   "source": [
    "sorter_params = dict(n_jobs=30)\n",
    "# , chunk_duration=\"1s\", progress_bar=True) already default"
   ]
  },
  {
   "cell_type": "code",
   "execution_count": 7,
   "metadata": {},
   "outputs": [
    {
     "name": "stdout",
     "output_type": "stream",
     "text": [
      "Starting container\n",
      "Installing spikeinterface from sources in spikeinterface/pykilosort-base:latest\n",
      "Installing dev spikeinterface from remote repository\n",
      "Running pykilosort sorter inside spikeinterface/pykilosort-base:latest\n",
      "Stopping container\n",
      "Versions are not the same. This might lead to errors. Use  spikeinterface version 0.98.0.dev0\n",
      "Failed to get result with sorter specific extractor.\n",
      "Error Message: nothing found at path ''\n",
      "Getting result from in-container saved NpzSortingExtractor\n",
      "Versions are not the same. This might lead to errors. Use  spikeinterface version 0.98.0.dev0\n"
     ]
    }
   ],
   "source": [
    "sorting_pyKS = ss.run_pykilosort(recording_saved,\n",
    "                            output_folder=base_folder / 'results_pyKS',\n",
    "                            verbose=True, docker_image=\"spikeinterface/pykilosort-base:latest\",\n",
    "                            **sorter_params)"
   ]
  },
  {
   "cell_type": "code",
   "execution_count": null,
   "metadata": {},
   "outputs": [],
   "source": [
    "# ss.get_default_sorter_params('tridesclous')"
   ]
  },
  {
   "cell_type": "code",
   "execution_count": null,
   "metadata": {},
   "outputs": [],
   "source": [
    "# sorting_TDC = ss.run_tridesclous(recording_concat,\n",
    "#                             output_folder=base_folder / 'results_TDC',\n",
    "#                             verbose=True, singularity_image=True) \n",
    "# # \"spikeinterface/tridesclous-base:latest\""
   ]
  },
  {
   "cell_type": "code",
   "execution_count": null,
   "metadata": {},
   "outputs": [],
   "source": [
    "# ss.get_default_sorter_params('herdingspikes')"
   ]
  },
  {
   "cell_type": "code",
   "execution_count": null,
   "metadata": {},
   "outputs": [],
   "source": [
    "# sorter_params = dict(num_com_centers=2, detect_threshold=20,\n",
    "#                 left_cutout_time=0.4, right_cutout_time=1.0,\n",
    "#                 maa=0, amp_evaluation_time=0.1, spk_evaluation_time=0.4,\n",
    "#                 ahpthr=0, decay_filtering=True, save_all=True)"
   ]
  },
  {
   "cell_type": "code",
   "execution_count": null,
   "metadata": {},
   "outputs": [],
   "source": [
    "# sorting_HS = ss.run_herdingspikes(recording_concat, \n",
    "#              output_folder=base_folder / 'results_HS',\n",
    "#              verbose=True, singularity_image=True)\n",
    "# # **sorter_params"
   ]
  },
  {
   "cell_type": "code",
   "execution_count": null,
   "metadata": {},
   "outputs": [],
   "source": [
    "# sorting_KS3 = ss.run_kilosort3(recording_concat, \n",
    "#                             output_folder=base_folder / 'results_KS3',\n",
    "#                             verbose=True, singularity_image=\"spikeinterface/kilosort3-compiled-base:latest\")"
   ]
  },
  {
   "cell_type": "code",
   "execution_count": null,
   "metadata": {},
   "outputs": [],
   "source": [
    "# sorting_KS2_5 = ss.run_kilosort2_5(recording_concat, \n",
    "#                             output_folder=base_folder / 'results_KS2_5',\n",
    "#                             verbose=True, singularity_image=\"spikeinterface/kilosort2_5-compiled-base:latest\")"
   ]
  },
  {
   "cell_type": "code",
   "execution_count": null,
   "metadata": {},
   "outputs": [],
   "source": [
    "# print(sorting_KS2_5)"
   ]
  },
  {
   "cell_type": "code",
   "execution_count": null,
   "metadata": {},
   "outputs": [],
   "source": [
    "# print(f'KS2.5 found {len(sorting_KS2_5.get_unit_ids())} units')"
   ]
  },
  {
   "cell_type": "code",
   "execution_count": null,
   "metadata": {},
   "outputs": [],
   "source": [
    "# sorting_KS2_5 = sorting_KS2_5.remove_empty_units()\n",
    "# print(f'KS2.5 found {len(sorting_KS2_5.get_unit_ids())} non-empty units')"
   ]
  },
  {
   "cell_type": "code",
   "execution_count": null,
   "metadata": {},
   "outputs": [],
   "source": [
    "ss.get_default_sorter_params('mountainsort4')"
   ]
  },
  {
   "cell_type": "code",
   "execution_count": null,
   "metadata": {},
   "outputs": [],
   "source": [
    "sorter_params = dict(num_workers=40)"
   ]
  },
  {
   "cell_type": "code",
   "execution_count": null,
   "metadata": {},
   "outputs": [],
   "source": [
    "sorting_MS4 = ss.run_mountainsort4(recording_concat, \n",
    "              output_folder=base_folder / 'results_MS4',\n",
    "              verbose=True, singularity_image=\"spikeinterface/mountainsort4-base:latest\", \n",
    "              **sorter_params)"
   ]
  },
  {
   "cell_type": "code",
   "execution_count": null,
   "metadata": {},
   "outputs": [],
   "source": [
    "ss.get_default_sorter_params('ironclust')"
   ]
  },
  {
   "cell_type": "code",
   "execution_count": null,
   "metadata": {},
   "outputs": [],
   "source": [
    "sorter_params = dict(n_jobs=40, chunk_duration=\"1s\", progress_bar=True)"
   ]
  },
  {
   "cell_type": "code",
   "execution_count": null,
   "metadata": {
    "tags": []
   },
   "outputs": [],
   "source": [
    "sorting_IC = ss.run_ironclust(recording_concat, \n",
    "              output_folder=base_folder / 'results_IC',\n",
    "              verbose=True, singularity_image=\"spikeinterface/ironclust-compiled-base:latest\", \n",
    "              **sorter_params)"
   ]
  },
  {
   "cell_type": "markdown",
   "metadata": {},
   "source": [
    "### Extract waveforms"
   ]
  },
  {
   "cell_type": "code",
   "execution_count": 15,
   "metadata": {},
   "outputs": [
    {
     "ename": "ValueError",
     "evalue": "This folder is not a cached folder D:\\Vincent\\Data\\sc012\\sc012_0120\\sc012_0120_001\\results_pyKS",
     "output_type": "error",
     "traceback": [
      "\u001b[1;31m---------------------------------------------------------------------------\u001b[0m",
      "\u001b[1;31mValueError\u001b[0m                                Traceback (most recent call last)",
      "Cell \u001b[1;32mIn[15], line 2\u001b[0m\n\u001b[0;32m      1\u001b[0m \u001b[38;5;66;03m# recording_saved = si.load_extractor(base_folder / \"preprocessed\")\u001b[39;00m\n\u001b[1;32m----> 2\u001b[0m sorting \u001b[38;5;241m=\u001b[39m \u001b[43msi\u001b[49m\u001b[38;5;241;43m.\u001b[39;49m\u001b[43mload_extractor\u001b[49m\u001b[43m(\u001b[49m\u001b[43mbase_folder\u001b[49m\u001b[43m \u001b[49m\u001b[38;5;241;43m/\u001b[39;49m\u001b[43m \u001b[49m\u001b[38;5;124;43m\"\u001b[39;49m\u001b[38;5;124;43mresults_pyKS\u001b[39;49m\u001b[38;5;124;43m\"\u001b[39;49m\u001b[43m)\u001b[49m\n\u001b[0;32m      3\u001b[0m \u001b[38;5;28mprint\u001b[39m(sorting)\n",
      "File \u001b[1;32m~\\miniconda3\\envs\\si_env\\lib\\site-packages\\spikeinterface\\core\\base.py:911\u001b[0m, in \u001b[0;36mload_extractor\u001b[1;34m(file_or_folder_or_dict, base_folder)\u001b[0m\n\u001b[0;32m    909\u001b[0m     \u001b[38;5;28;01mreturn\u001b[39;00m BaseExtractor\u001b[38;5;241m.\u001b[39mfrom_dict(file_or_folder_or_dict, base_folder\u001b[38;5;241m=\u001b[39mbase_folder)\n\u001b[0;32m    910\u001b[0m \u001b[38;5;28;01melse\u001b[39;00m:\n\u001b[1;32m--> 911\u001b[0m     \u001b[38;5;28;01mreturn\u001b[39;00m \u001b[43mBaseExtractor\u001b[49m\u001b[38;5;241;43m.\u001b[39;49m\u001b[43mload\u001b[49m\u001b[43m(\u001b[49m\u001b[43mfile_or_folder_or_dict\u001b[49m\u001b[43m,\u001b[49m\u001b[43m \u001b[49m\u001b[43mbase_folder\u001b[49m\u001b[38;5;241;43m=\u001b[39;49m\u001b[43mbase_folder\u001b[49m\u001b[43m)\u001b[49m\n",
      "File \u001b[1;32m~\\miniconda3\\envs\\si_env\\lib\\site-packages\\spikeinterface\\core\\base.py:557\u001b[0m, in \u001b[0;36mBaseExtractor.load\u001b[1;34m(file_path, base_folder)\u001b[0m\n\u001b[0;32m    554\u001b[0m     file \u001b[38;5;241m=\u001b[39m f\n\u001b[0;32m    556\u001b[0m \u001b[38;5;28;01mif\u001b[39;00m file \u001b[38;5;129;01mis\u001b[39;00m \u001b[38;5;28;01mNone\u001b[39;00m:\n\u001b[1;32m--> 557\u001b[0m     \u001b[38;5;28;01mraise\u001b[39;00m \u001b[38;5;167;01mValueError\u001b[39;00m(\u001b[38;5;124mf\u001b[39m\u001b[38;5;124m'\u001b[39m\u001b[38;5;124mThis folder is not a cached folder \u001b[39m\u001b[38;5;132;01m{\u001b[39;00mfile_path\u001b[38;5;132;01m}\u001b[39;00m\u001b[38;5;124m'\u001b[39m)\n\u001b[0;32m    558\u001b[0m extractor \u001b[38;5;241m=\u001b[39m BaseExtractor\u001b[38;5;241m.\u001b[39mload(file, base_folder\u001b[38;5;241m=\u001b[39mfolder)\n\u001b[0;32m    560\u001b[0m \u001b[38;5;28;01mreturn\u001b[39;00m extractor\n",
      "\u001b[1;31mValueError\u001b[0m: This folder is not a cached folder D:\\Vincent\\Data\\sc012\\sc012_0120\\sc012_0120_001\\results_pyKS"
     ]
    }
   ],
   "source": [
    "# recording_saved = si.load_extractor(base_folder / \"preprocessed\")\n",
    "sorting = si.load_extractor(base_folder / \"results_pyKS\")\n",
    "print(sorting)"
   ]
  },
  {
   "cell_type": "code",
   "execution_count": null,
   "metadata": {
    "pycharm": {
     "name": "#%%\n"
    }
   },
   "outputs": [],
   "source": [
    "si.extract_waveforms?"
   ]
  },
  {
   "cell_type": "code",
   "execution_count": 12,
   "metadata": {},
   "outputs": [],
   "source": [
    "job_kwargs = dict(n_jobs=30, chunk_duration=\"1s\", progress_bar=True)"
   ]
  },
  {
   "cell_type": "code",
   "execution_count": 14,
   "metadata": {},
   "outputs": [
    {
     "name": "stderr",
     "output_type": "stream",
     "text": [
      "C:\\Users\\wanglab\\AppData\\Local\\Temp\\ipykernel_8820\\2490045316.py:1: DeprecationWarning: load_if_exists=True/false is deprcated. Use load_waveforms() instead.\n",
      "  we = si.extract_waveforms(recording_saved, sorting_pyKS, folder=base_folder / \"waveforms\",\n"
     ]
    },
    {
     "ename": "PermissionError",
     "evalue": "[WinError 32] The process cannot access the file because it is being used by another process: 'D:\\\\Vincent\\\\Data\\\\sc012\\\\sc012_0120\\\\sc012_0120_001\\\\waveforms\\\\waveforms\\\\waveforms_0.npy'",
     "output_type": "error",
     "traceback": [
      "\u001b[1;31m---------------------------------------------------------------------------\u001b[0m",
      "\u001b[1;31mPermissionError\u001b[0m                           Traceback (most recent call last)",
      "Cell \u001b[1;32mIn[14], line 1\u001b[0m\n\u001b[1;32m----> 1\u001b[0m we \u001b[38;5;241m=\u001b[39m si\u001b[38;5;241m.\u001b[39mextract_waveforms(recording_saved, sorting_pyKS, folder\u001b[38;5;241m=\u001b[39mbase_folder \u001b[38;5;241m/\u001b[39m \u001b[38;5;124m\"\u001b[39m\u001b[38;5;124mwaveforms\u001b[39m\u001b[38;5;124m\"\u001b[39m, \n\u001b[0;32m      2\u001b[0m                           load_if_exists\u001b[38;5;241m=\u001b[39m\u001b[38;5;28;01mFalse\u001b[39;00m, overwrite\u001b[38;5;241m=\u001b[39m\u001b[38;5;28;01mTrue\u001b[39;00m, \u001b[38;5;241m*\u001b[39m\u001b[38;5;241m*\u001b[39mjob_kwargs)\n\u001b[0;32m      3\u001b[0m \u001b[38;5;28mprint\u001b[39m(we)\n",
      "File \u001b[1;32m~\\miniconda3\\envs\\si_env\\lib\\site-packages\\spikeinterface\\core\\waveform_extractor.py:1372\u001b[0m, in \u001b[0;36mextract_waveforms\u001b[1;34m(recording, sorting, folder, mode, precompute_template, ms_before, ms_after, max_spikes_per_unit, overwrite, return_scaled, dtype, sparse, num_spikes_for_sparsity, allow_unfiltered, use_relative_path, seed, load_if_exists, **kwargs)\u001b[0m\n\u001b[0;32m   1370\u001b[0m \u001b[38;5;28;01massert\u001b[39;00m \u001b[38;5;129;01mnot\u001b[39;00m (overwrite \u001b[38;5;129;01mand\u001b[39;00m load_if_exists), \u001b[38;5;124m\"\u001b[39m\u001b[38;5;124mUse either \u001b[39m\u001b[38;5;124m'\u001b[39m\u001b[38;5;124moverwrite=True\u001b[39m\u001b[38;5;124m'\u001b[39m\u001b[38;5;124m or \u001b[39m\u001b[38;5;124m'\u001b[39m\u001b[38;5;124mload_if_exists=True\u001b[39m\u001b[38;5;124m'\u001b[39m\u001b[38;5;124m\"\u001b[39m\n\u001b[0;32m   1371\u001b[0m \u001b[38;5;28;01mif\u001b[39;00m overwrite \u001b[38;5;129;01mand\u001b[39;00m folder\u001b[38;5;241m.\u001b[39mis_dir():\n\u001b[1;32m-> 1372\u001b[0m     \u001b[43mshutil\u001b[49m\u001b[38;5;241;43m.\u001b[39;49m\u001b[43mrmtree\u001b[49m\u001b[43m(\u001b[49m\u001b[43mfolder\u001b[49m\u001b[43m)\u001b[49m\n\u001b[0;32m   1373\u001b[0m \u001b[38;5;28;01mif\u001b[39;00m load_if_exists \u001b[38;5;129;01mand\u001b[39;00m folder\u001b[38;5;241m.\u001b[39mis_dir():\n\u001b[0;32m   1374\u001b[0m     we \u001b[38;5;241m=\u001b[39m WaveformExtractor\u001b[38;5;241m.\u001b[39mload_from_folder(folder)\n",
      "File \u001b[1;32m~\\miniconda3\\envs\\si_env\\lib\\shutil.py:759\u001b[0m, in \u001b[0;36mrmtree\u001b[1;34m(path, ignore_errors, onerror)\u001b[0m\n\u001b[0;32m    757\u001b[0m     \u001b[38;5;66;03m# can't continue even if onerror hook returns\u001b[39;00m\n\u001b[0;32m    758\u001b[0m     \u001b[38;5;28;01mreturn\u001b[39;00m\n\u001b[1;32m--> 759\u001b[0m \u001b[38;5;28;01mreturn\u001b[39;00m \u001b[43m_rmtree_unsafe\u001b[49m\u001b[43m(\u001b[49m\u001b[43mpath\u001b[49m\u001b[43m,\u001b[49m\u001b[43m \u001b[49m\u001b[43monerror\u001b[49m\u001b[43m)\u001b[49m\n",
      "File \u001b[1;32m~\\miniconda3\\envs\\si_env\\lib\\shutil.py:624\u001b[0m, in \u001b[0;36m_rmtree_unsafe\u001b[1;34m(path, onerror)\u001b[0m\n\u001b[0;32m    622\u001b[0m         onerror(os\u001b[38;5;241m.\u001b[39mpath\u001b[38;5;241m.\u001b[39mislink, fullname, sys\u001b[38;5;241m.\u001b[39mexc_info())\n\u001b[0;32m    623\u001b[0m         \u001b[38;5;28;01mcontinue\u001b[39;00m\n\u001b[1;32m--> 624\u001b[0m     \u001b[43m_rmtree_unsafe\u001b[49m\u001b[43m(\u001b[49m\u001b[43mfullname\u001b[49m\u001b[43m,\u001b[49m\u001b[43m \u001b[49m\u001b[43monerror\u001b[49m\u001b[43m)\u001b[49m\n\u001b[0;32m    625\u001b[0m \u001b[38;5;28;01melse\u001b[39;00m:\n\u001b[0;32m    626\u001b[0m     \u001b[38;5;28;01mtry\u001b[39;00m:\n",
      "File \u001b[1;32m~\\miniconda3\\envs\\si_env\\lib\\shutil.py:629\u001b[0m, in \u001b[0;36m_rmtree_unsafe\u001b[1;34m(path, onerror)\u001b[0m\n\u001b[0;32m    627\u001b[0m             os\u001b[38;5;241m.\u001b[39munlink(fullname)\n\u001b[0;32m    628\u001b[0m         \u001b[38;5;28;01mexcept\u001b[39;00m \u001b[38;5;167;01mOSError\u001b[39;00m:\n\u001b[1;32m--> 629\u001b[0m             \u001b[43monerror\u001b[49m\u001b[43m(\u001b[49m\u001b[43mos\u001b[49m\u001b[38;5;241;43m.\u001b[39;49m\u001b[43munlink\u001b[49m\u001b[43m,\u001b[49m\u001b[43m \u001b[49m\u001b[43mfullname\u001b[49m\u001b[43m,\u001b[49m\u001b[43m \u001b[49m\u001b[43msys\u001b[49m\u001b[38;5;241;43m.\u001b[39;49m\u001b[43mexc_info\u001b[49m\u001b[43m(\u001b[49m\u001b[43m)\u001b[49m\u001b[43m)\u001b[49m\n\u001b[0;32m    630\u001b[0m \u001b[38;5;28;01mtry\u001b[39;00m:\n\u001b[0;32m    631\u001b[0m     os\u001b[38;5;241m.\u001b[39mrmdir(path)\n",
      "File \u001b[1;32m~\\miniconda3\\envs\\si_env\\lib\\shutil.py:627\u001b[0m, in \u001b[0;36m_rmtree_unsafe\u001b[1;34m(path, onerror)\u001b[0m\n\u001b[0;32m    625\u001b[0m \u001b[38;5;28;01melse\u001b[39;00m:\n\u001b[0;32m    626\u001b[0m     \u001b[38;5;28;01mtry\u001b[39;00m:\n\u001b[1;32m--> 627\u001b[0m         \u001b[43mos\u001b[49m\u001b[38;5;241;43m.\u001b[39;49m\u001b[43munlink\u001b[49m\u001b[43m(\u001b[49m\u001b[43mfullname\u001b[49m\u001b[43m)\u001b[49m\n\u001b[0;32m    628\u001b[0m     \u001b[38;5;28;01mexcept\u001b[39;00m \u001b[38;5;167;01mOSError\u001b[39;00m:\n\u001b[0;32m    629\u001b[0m         onerror(os\u001b[38;5;241m.\u001b[39munlink, fullname, sys\u001b[38;5;241m.\u001b[39mexc_info())\n",
      "\u001b[1;31mPermissionError\u001b[0m: [WinError 32] The process cannot access the file because it is being used by another process: 'D:\\\\Vincent\\\\Data\\\\sc012\\\\sc012_0120\\\\sc012_0120_001\\\\waveforms\\\\waveforms\\\\waveforms_0.npy'"
     ]
    }
   ],
   "source": [
    "we = si.extract_waveforms(recording_saved, sorting_pyKS, folder=base_folder / \"waveforms\", \n",
    "                          load_if_exists=False, overwrite=True, **job_kwargs)\n",
    "print(we)"
   ]
  },
  {
   "cell_type": "code",
   "execution_count": 10,
   "metadata": {},
   "outputs": [
    {
     "name": "stdout",
     "output_type": "stream",
     "text": [
      "Waveforms shape: (500, 210, 384)\n",
      "Template shape: (210, 384)\n",
      "All templates shape: (355, 210, 384)\n"
     ]
    }
   ],
   "source": [
    "waveforms0 = we.get_waveforms(unit_id=0)\n",
    "print(f\"Waveforms shape: {waveforms0.shape}\")\n",
    "template0 = we.get_template(unit_id=0)\n",
    "print(f\"Template shape: {template0.shape}\")\n",
    "all_templates = we.get_all_templates()\n",
    "print(f\"All templates shape: {all_templates.shape}\")"
   ]
  },
  {
   "cell_type": "code",
   "execution_count": 11,
   "metadata": {},
   "outputs": [],
   "source": [
    "import spikeinterface.widgets as sw\n",
    "import matplotlib.pyplot as plt\n",
    "\n",
    "import warnings\n",
    "warnings.simplefilter(\"ignore\")\n",
    "\n",
    "%matplotlib widget"
   ]
  },
  {
   "cell_type": "code",
   "execution_count": null,
   "metadata": {},
   "outputs": [],
   "source": [
    "w = sw.plot_unit_templates(we, radius_um=30, backend=\"ipywidgets\")"
   ]
  },
  {
   "cell_type": "code",
   "execution_count": 11,
   "metadata": {},
   "outputs": [
    {
     "name": "stdout",
     "output_type": "stream",
     "text": [
      "Unit 0 - num waveforms: 500 - num spikes: 26300\n",
      "Unit 1 - num waveforms: 500 - num spikes: 12732\n",
      "Unit 2 - num waveforms: 500 - num spikes: 20346\n",
      "Unit 3 - num waveforms: 500 - num spikes: 11718\n",
      "Unit 4 - num waveforms: 33 - num spikes: 33\n",
      "Unit 5 - num waveforms: 2 - num spikes: 2\n",
      "Unit 6 - num waveforms: 500 - num spikes: 668\n",
      "Unit 7 - num waveforms: 500 - num spikes: 17858\n",
      "Unit 8 - num waveforms: 500 - num spikes: 32220\n",
      "Unit 9 - num waveforms: 500 - num spikes: 2069\n",
      "Unit 10 - num waveforms: 500 - num spikes: 27232\n",
      "Unit 11 - num waveforms: 500 - num spikes: 1125\n",
      "Unit 12 - num waveforms: 500 - num spikes: 9695\n",
      "Unit 13 - num waveforms: 500 - num spikes: 874\n",
      "Unit 14 - num waveforms: 500 - num spikes: 2957\n",
      "Unit 15 - num waveforms: 500 - num spikes: 7389\n",
      "Unit 16 - num waveforms: 500 - num spikes: 12190\n",
      "Unit 17 - num waveforms: 413 - num spikes: 413\n",
      "Unit 18 - num waveforms: 500 - num spikes: 2550\n",
      "Unit 19 - num waveforms: 413 - num spikes: 413\n",
      "Unit 20 - num waveforms: 500 - num spikes: 21502\n",
      "Unit 21 - num waveforms: 500 - num spikes: 54805\n",
      "Unit 22 - num waveforms: 500 - num spikes: 5120\n",
      "Unit 23 - num waveforms: 19 - num spikes: 19\n",
      "Unit 24 - num waveforms: 500 - num spikes: 20990\n",
      "Unit 25 - num waveforms: 500 - num spikes: 4457\n",
      "Unit 26 - num waveforms: 499 - num spikes: 39920\n",
      "Unit 27 - num waveforms: 500 - num spikes: 3660\n",
      "Unit 28 - num waveforms: 500 - num spikes: 24110\n",
      "Unit 29 - num waveforms: 500 - num spikes: 8904\n",
      "Unit 30 - num waveforms: 500 - num spikes: 4289\n",
      "Unit 31 - num waveforms: 24 - num spikes: 24\n",
      "Unit 32 - num waveforms: 20 - num spikes: 20\n",
      "Unit 33 - num waveforms: 500 - num spikes: 14078\n",
      "Unit 34 - num waveforms: 124 - num spikes: 124\n",
      "Unit 35 - num waveforms: 500 - num spikes: 11091\n",
      "Unit 36 - num waveforms: 336 - num spikes: 336\n",
      "Unit 37 - num waveforms: 500 - num spikes: 4514\n",
      "Unit 38 - num waveforms: 500 - num spikes: 24837\n",
      "Unit 39 - num waveforms: 500 - num spikes: 2233\n",
      "Unit 40 - num waveforms: 500 - num spikes: 1342\n",
      "Unit 41 - num waveforms: 32 - num spikes: 32\n",
      "Unit 42 - num waveforms: 500 - num spikes: 21799\n",
      "Unit 43 - num waveforms: 18 - num spikes: 18\n",
      "Unit 44 - num waveforms: 500 - num spikes: 17156\n",
      "Unit 45 - num waveforms: 121 - num spikes: 121\n",
      "Unit 46 - num waveforms: 99 - num spikes: 99\n",
      "Unit 47 - num waveforms: 500 - num spikes: 19464\n",
      "Unit 48 - num waveforms: 500 - num spikes: 10198\n",
      "Unit 49 - num waveforms: 23 - num spikes: 23\n",
      "Unit 50 - num waveforms: 500 - num spikes: 6336\n",
      "Unit 51 - num waveforms: 86 - num spikes: 86\n",
      "Unit 52 - num waveforms: 500 - num spikes: 2112\n",
      "Unit 53 - num waveforms: 120 - num spikes: 120\n",
      "Unit 54 - num waveforms: 19 - num spikes: 19\n",
      "Unit 55 - num waveforms: 500 - num spikes: 25566\n",
      "Unit 56 - num waveforms: 500 - num spikes: 10351\n",
      "Unit 57 - num waveforms: 58 - num spikes: 58\n",
      "Unit 58 - num waveforms: 500 - num spikes: 1680\n",
      "Unit 59 - num waveforms: 500 - num spikes: 5922\n",
      "Unit 60 - num waveforms: 8 - num spikes: 8\n",
      "Unit 61 - num waveforms: 1 - num spikes: 1\n",
      "Unit 62 - num waveforms: 21 - num spikes: 21\n",
      "Unit 63 - num waveforms: 23 - num spikes: 23\n",
      "Unit 64 - num waveforms: 72 - num spikes: 72\n",
      "Unit 65 - num waveforms: 13 - num spikes: 13\n",
      "Unit 66 - num waveforms: 500 - num spikes: 26224\n",
      "Unit 67 - num waveforms: 33 - num spikes: 33\n",
      "Unit 68 - num waveforms: 25 - num spikes: 25\n",
      "Unit 69 - num waveforms: 500 - num spikes: 22922\n",
      "Unit 70 - num waveforms: 500 - num spikes: 15224\n",
      "Unit 71 - num waveforms: 500 - num spikes: 27733\n",
      "Unit 72 - num waveforms: 500 - num spikes: 5965\n",
      "Unit 73 - num waveforms: 500 - num spikes: 9186\n",
      "Unit 74 - num waveforms: 126 - num spikes: 126\n",
      "Unit 75 - num waveforms: 27 - num spikes: 27\n",
      "Unit 76 - num waveforms: 500 - num spikes: 11931\n",
      "Unit 77 - num waveforms: 49 - num spikes: 49\n",
      "Unit 78 - num waveforms: 45 - num spikes: 45\n",
      "Unit 79 - num waveforms: 51 - num spikes: 51\n",
      "Unit 80 - num waveforms: 72 - num spikes: 72\n",
      "Unit 81 - num waveforms: 47 - num spikes: 47\n",
      "Unit 82 - num waveforms: 500 - num spikes: 11983\n",
      "Unit 83 - num waveforms: 67 - num spikes: 67\n",
      "Unit 84 - num waveforms: 108 - num spikes: 108\n",
      "Unit 85 - num waveforms: 500 - num spikes: 42445\n",
      "Unit 86 - num waveforms: 1 - num spikes: 1\n",
      "Unit 87 - num waveforms: 500 - num spikes: 720\n",
      "Unit 88 - num waveforms: 500 - num spikes: 1756\n",
      "Unit 89 - num waveforms: 109 - num spikes: 109\n",
      "Unit 90 - num waveforms: 499 - num spikes: 33605\n",
      "Unit 91 - num waveforms: 59 - num spikes: 59\n",
      "Unit 92 - num waveforms: 3 - num spikes: 3\n",
      "Unit 93 - num waveforms: 43 - num spikes: 43\n",
      "Unit 94 - num waveforms: 500 - num spikes: 22923\n",
      "Unit 95 - num waveforms: 367 - num spikes: 367\n",
      "Unit 96 - num waveforms: 500 - num spikes: 24029\n",
      "Unit 97 - num waveforms: 500 - num spikes: 3110\n",
      "Unit 98 - num waveforms: 500 - num spikes: 6207\n",
      "Unit 99 - num waveforms: 500 - num spikes: 32467\n",
      "Unit 100 - num waveforms: 500 - num spikes: 12711\n",
      "Unit 101 - num waveforms: 500 - num spikes: 997\n",
      "Unit 102 - num waveforms: 500 - num spikes: 3145\n",
      "Unit 103 - num waveforms: 119 - num spikes: 119\n",
      "Unit 104 - num waveforms: 500 - num spikes: 2223\n",
      "Unit 105 - num waveforms: 500 - num spikes: 4498\n",
      "Unit 106 - num waveforms: 500 - num spikes: 5341\n",
      "Unit 107 - num waveforms: 500 - num spikes: 9851\n",
      "Unit 108 - num waveforms: 391 - num spikes: 391\n",
      "Unit 109 - num waveforms: 83 - num spikes: 83\n",
      "Unit 110 - num waveforms: 500 - num spikes: 2405\n",
      "Unit 111 - num waveforms: 500 - num spikes: 905\n",
      "Unit 112 - num waveforms: 53 - num spikes: 53\n",
      "Unit 113 - num waveforms: 500 - num spikes: 20951\n",
      "Unit 114 - num waveforms: 49 - num spikes: 49\n",
      "Unit 115 - num waveforms: 192 - num spikes: 192\n",
      "Unit 116 - num waveforms: 500 - num spikes: 3403\n",
      "Unit 117 - num waveforms: 500 - num spikes: 872\n",
      "Unit 118 - num waveforms: 500 - num spikes: 1261\n",
      "Unit 119 - num waveforms: 138 - num spikes: 138\n",
      "Unit 120 - num waveforms: 129 - num spikes: 129\n",
      "Unit 121 - num waveforms: 60 - num spikes: 60\n",
      "Unit 122 - num waveforms: 59 - num spikes: 59\n",
      "Unit 123 - num waveforms: 500 - num spikes: 4090\n",
      "Unit 124 - num waveforms: 19 - num spikes: 19\n",
      "Unit 125 - num waveforms: 121 - num spikes: 121\n",
      "Unit 126 - num waveforms: 500 - num spikes: 6758\n",
      "Unit 127 - num waveforms: 500 - num spikes: 6165\n",
      "Unit 128 - num waveforms: 500 - num spikes: 5149\n",
      "Unit 129 - num waveforms: 500 - num spikes: 7659\n",
      "Unit 130 - num waveforms: 500 - num spikes: 8487\n",
      "Unit 131 - num waveforms: 92 - num spikes: 92\n",
      "Unit 132 - num waveforms: 28 - num spikes: 28\n",
      "Unit 133 - num waveforms: 44 - num spikes: 44\n",
      "Unit 134 - num waveforms: 28 - num spikes: 28\n",
      "Unit 135 - num waveforms: 500 - num spikes: 843\n",
      "Unit 136 - num waveforms: 254 - num spikes: 254\n",
      "Unit 137 - num waveforms: 500 - num spikes: 15954\n",
      "Unit 138 - num waveforms: 158 - num spikes: 158\n",
      "Unit 139 - num waveforms: 9 - num spikes: 9\n",
      "Unit 140 - num waveforms: 7 - num spikes: 7\n",
      "Unit 141 - num waveforms: 500 - num spikes: 16890\n",
      "Unit 142 - num waveforms: 40 - num spikes: 40\n",
      "Unit 143 - num waveforms: 125 - num spikes: 125\n",
      "Unit 144 - num waveforms: 500 - num spikes: 7250\n",
      "Unit 145 - num waveforms: 77 - num spikes: 77\n",
      "Unit 146 - num waveforms: 124 - num spikes: 124\n",
      "Unit 147 - num waveforms: 500 - num spikes: 624\n",
      "Unit 148 - num waveforms: 343 - num spikes: 343\n",
      "Unit 149 - num waveforms: 500 - num spikes: 8722\n",
      "Unit 150 - num waveforms: 209 - num spikes: 209\n",
      "Unit 151 - num waveforms: 296 - num spikes: 296\n",
      "Unit 152 - num waveforms: 4 - num spikes: 4\n",
      "Unit 153 - num waveforms: 196 - num spikes: 196\n",
      "Unit 154 - num waveforms: 100 - num spikes: 100\n",
      "Unit 155 - num waveforms: 114 - num spikes: 114\n",
      "Unit 156 - num waveforms: 500 - num spikes: 7338\n",
      "Unit 157 - num waveforms: 500 - num spikes: 6544\n",
      "Unit 158 - num waveforms: 146 - num spikes: 146\n",
      "Unit 159 - num waveforms: 500 - num spikes: 17293\n",
      "Unit 160 - num waveforms: 500 - num spikes: 16318\n",
      "Unit 161 - num waveforms: 159 - num spikes: 159\n",
      "Unit 162 - num waveforms: 500 - num spikes: 16282\n",
      "Unit 163 - num waveforms: 95 - num spikes: 95\n",
      "Unit 164 - num waveforms: 101 - num spikes: 101\n",
      "Unit 165 - num waveforms: 500 - num spikes: 16914\n",
      "Unit 166 - num waveforms: 500 - num spikes: 13357\n",
      "Unit 167 - num waveforms: 28 - num spikes: 28\n",
      "Unit 168 - num waveforms: 500 - num spikes: 15298\n",
      "Unit 169 - num waveforms: 500 - num spikes: 15467\n",
      "Unit 170 - num waveforms: 500 - num spikes: 12076\n",
      "Unit 171 - num waveforms: 32 - num spikes: 32\n",
      "Unit 172 - num waveforms: 114 - num spikes: 114\n",
      "Unit 173 - num waveforms: 500 - num spikes: 507\n",
      "Unit 174 - num waveforms: 43 - num spikes: 43\n",
      "Unit 175 - num waveforms: 500 - num spikes: 1551\n",
      "Unit 176 - num waveforms: 127 - num spikes: 127\n",
      "Unit 177 - num waveforms: 500 - num spikes: 1733\n",
      "Unit 178 - num waveforms: 500 - num spikes: 13645\n",
      "Unit 179 - num waveforms: 34 - num spikes: 34\n",
      "Unit 180 - num waveforms: 500 - num spikes: 10812\n",
      "Unit 181 - num waveforms: 500 - num spikes: 14759\n",
      "Unit 182 - num waveforms: 66 - num spikes: 66\n",
      "Unit 183 - num waveforms: 132 - num spikes: 132\n",
      "Unit 184 - num waveforms: 500 - num spikes: 3440\n",
      "Unit 185 - num waveforms: 500 - num spikes: 694\n",
      "Unit 186 - num waveforms: 24 - num spikes: 24\n",
      "Unit 187 - num waveforms: 37 - num spikes: 37\n",
      "Unit 188 - num waveforms: 38 - num spikes: 38\n",
      "Unit 189 - num waveforms: 487 - num spikes: 487\n",
      "Unit 190 - num waveforms: 500 - num spikes: 2836\n",
      "Unit 191 - num waveforms: 220 - num spikes: 220\n",
      "Unit 192 - num waveforms: 500 - num spikes: 2206\n",
      "Unit 193 - num waveforms: 160 - num spikes: 160\n",
      "Unit 194 - num waveforms: 500 - num spikes: 573\n",
      "Unit 195 - num waveforms: 500 - num spikes: 3111\n",
      "Unit 196 - num waveforms: 145 - num spikes: 145\n",
      "Unit 197 - num waveforms: 98 - num spikes: 98\n",
      "Unit 198 - num waveforms: 500 - num spikes: 887\n",
      "Unit 199 - num waveforms: 470 - num spikes: 470\n",
      "Unit 200 - num waveforms: 500 - num spikes: 697\n",
      "Unit 201 - num waveforms: 27 - num spikes: 27\n",
      "Unit 202 - num waveforms: 23 - num spikes: 23\n",
      "Unit 203 - num waveforms: 187 - num spikes: 187\n",
      "Unit 204 - num waveforms: 500 - num spikes: 3765\n",
      "Unit 205 - num waveforms: 500 - num spikes: 3558\n",
      "Unit 206 - num waveforms: 500 - num spikes: 6825\n",
      "Unit 207 - num waveforms: 21 - num spikes: 21\n",
      "Unit 208 - num waveforms: 500 - num spikes: 2754\n",
      "Unit 209 - num waveforms: 127 - num spikes: 127\n",
      "Unit 210 - num waveforms: 390 - num spikes: 390\n",
      "Unit 211 - num waveforms: 500 - num spikes: 4131\n",
      "Unit 212 - num waveforms: 3 - num spikes: 3\n",
      "Unit 213 - num waveforms: 500 - num spikes: 916\n",
      "Unit 214 - num waveforms: 500 - num spikes: 745\n",
      "Unit 215 - num waveforms: 500 - num spikes: 3634\n",
      "Unit 216 - num waveforms: 500 - num spikes: 953\n",
      "Unit 217 - num waveforms: 500 - num spikes: 3176\n",
      "Unit 218 - num waveforms: 489 - num spikes: 489\n",
      "Unit 219 - num waveforms: 460 - num spikes: 460\n",
      "Unit 220 - num waveforms: 500 - num spikes: 656\n",
      "Unit 221 - num waveforms: 500 - num spikes: 532\n",
      "Unit 222 - num waveforms: 471 - num spikes: 471\n",
      "Unit 223 - num waveforms: 3 - num spikes: 3\n",
      "Unit 224 - num waveforms: 9 - num spikes: 9\n",
      "Unit 225 - num waveforms: 1 - num spikes: 1\n",
      "Unit 226 - num waveforms: 37 - num spikes: 37\n",
      "Unit 227 - num waveforms: 500 - num spikes: 7165\n",
      "Unit 228 - num waveforms: 500 - num spikes: 4984\n",
      "Unit 229 - num waveforms: 500 - num spikes: 4096\n",
      "Unit 230 - num waveforms: 500 - num spikes: 11877\n",
      "Unit 231 - num waveforms: 500 - num spikes: 4246\n",
      "Unit 232 - num waveforms: 500 - num spikes: 3083\n",
      "Unit 233 - num waveforms: 180 - num spikes: 180\n",
      "Unit 234 - num waveforms: 500 - num spikes: 1491\n",
      "Unit 235 - num waveforms: 500 - num spikes: 545\n",
      "Unit 236 - num waveforms: 500 - num spikes: 1367\n",
      "Unit 237 - num waveforms: 500 - num spikes: 1922\n",
      "Unit 238 - num waveforms: 68 - num spikes: 68\n",
      "Unit 239 - num waveforms: 500 - num spikes: 2381\n",
      "Unit 240 - num waveforms: 500 - num spikes: 4503\n",
      "Unit 241 - num waveforms: 500 - num spikes: 2106\n",
      "Unit 242 - num waveforms: 261 - num spikes: 261\n",
      "Unit 243 - num waveforms: 354 - num spikes: 354\n",
      "Unit 244 - num waveforms: 347 - num spikes: 347\n",
      "Unit 245 - num waveforms: 500 - num spikes: 4982\n",
      "Unit 246 - num waveforms: 500 - num spikes: 2649\n",
      "Unit 247 - num waveforms: 500 - num spikes: 4484\n",
      "Unit 248 - num waveforms: 500 - num spikes: 2279\n",
      "Unit 249 - num waveforms: 9 - num spikes: 9\n",
      "Unit 250 - num waveforms: 500 - num spikes: 2228\n",
      "Unit 251 - num waveforms: 500 - num spikes: 3191\n",
      "Unit 252 - num waveforms: 121 - num spikes: 121\n",
      "Unit 253 - num waveforms: 55 - num spikes: 55\n",
      "Unit 254 - num waveforms: 500 - num spikes: 2549\n",
      "Unit 255 - num waveforms: 500 - num spikes: 728\n",
      "Unit 256 - num waveforms: 500 - num spikes: 2271\n",
      "Unit 257 - num waveforms: 30 - num spikes: 30\n",
      "Unit 258 - num waveforms: 500 - num spikes: 509\n",
      "Unit 259 - num waveforms: 59 - num spikes: 59\n",
      "Unit 260 - num waveforms: 500 - num spikes: 522\n",
      "Unit 261 - num waveforms: 500 - num spikes: 2843\n",
      "Unit 262 - num waveforms: 500 - num spikes: 3019\n",
      "Unit 263 - num waveforms: 52 - num spikes: 52\n",
      "Unit 264 - num waveforms: 500 - num spikes: 3562\n",
      "Unit 265 - num waveforms: 500 - num spikes: 3290\n",
      "Unit 266 - num waveforms: 500 - num spikes: 2980\n",
      "Unit 267 - num waveforms: 500 - num spikes: 3591\n",
      "Unit 268 - num waveforms: 500 - num spikes: 651\n",
      "Unit 269 - num waveforms: 5 - num spikes: 5\n",
      "Unit 270 - num waveforms: 500 - num spikes: 1084\n",
      "Unit 271 - num waveforms: 402 - num spikes: 402\n",
      "Unit 272 - num waveforms: 500 - num spikes: 2843\n",
      "Unit 273 - num waveforms: 500 - num spikes: 903\n",
      "Unit 274 - num waveforms: 447 - num spikes: 447\n",
      "Unit 275 - num waveforms: 232 - num spikes: 232\n",
      "Unit 276 - num waveforms: 500 - num spikes: 3583\n",
      "Unit 277 - num waveforms: 500 - num spikes: 2562\n",
      "Unit 278 - num waveforms: 59 - num spikes: 59\n",
      "Unit 279 - num waveforms: 500 - num spikes: 952\n",
      "Unit 280 - num waveforms: 99 - num spikes: 99\n",
      "Unit 281 - num waveforms: 98 - num spikes: 98\n",
      "Unit 282 - num waveforms: 500 - num spikes: 3451\n",
      "Unit 283 - num waveforms: 500 - num spikes: 695\n",
      "Unit 284 - num waveforms: 500 - num spikes: 804\n",
      "Unit 285 - num waveforms: 500 - num spikes: 617\n",
      "Unit 286 - num waveforms: 500 - num spikes: 2022\n",
      "Unit 287 - num waveforms: 500 - num spikes: 641\n",
      "Unit 288 - num waveforms: 500 - num spikes: 6582\n",
      "Unit 289 - num waveforms: 500 - num spikes: 2109\n",
      "Unit 290 - num waveforms: 283 - num spikes: 283\n",
      "Unit 291 - num waveforms: 66 - num spikes: 66\n",
      "Unit 292 - num waveforms: 36 - num spikes: 36\n",
      "Unit 293 - num waveforms: 34 - num spikes: 34\n",
      "Unit 294 - num waveforms: 21 - num spikes: 21\n",
      "Unit 295 - num waveforms: 3 - num spikes: 3\n",
      "Unit 296 - num waveforms: 500 - num spikes: 1573\n",
      "Unit 297 - num waveforms: 500 - num spikes: 595\n",
      "Unit 298 - num waveforms: 30 - num spikes: 30\n",
      "Unit 299 - num waveforms: 122 - num spikes: 122\n",
      "Unit 300 - num waveforms: 58 - num spikes: 58\n",
      "Unit 301 - num waveforms: 500 - num spikes: 12807\n",
      "Unit 302 - num waveforms: 500 - num spikes: 1392\n",
      "Unit 303 - num waveforms: 25 - num spikes: 25\n",
      "Unit 304 - num waveforms: 41 - num spikes: 41\n",
      "Unit 305 - num waveforms: 500 - num spikes: 2066\n",
      "Unit 306 - num waveforms: 500 - num spikes: 10066\n",
      "Unit 307 - num waveforms: 63 - num spikes: 63\n",
      "Unit 308 - num waveforms: 500 - num spikes: 951\n",
      "Unit 309 - num waveforms: 10 - num spikes: 10\n",
      "Unit 310 - num waveforms: 127 - num spikes: 127\n",
      "Unit 311 - num waveforms: 500 - num spikes: 44301\n",
      "Unit 312 - num waveforms: 500 - num spikes: 4080\n",
      "Unit 313 - num waveforms: 1 - num spikes: 1\n",
      "Unit 314 - num waveforms: 1 - num spikes: 1\n",
      "Unit 315 - num waveforms: 500 - num spikes: 2545\n",
      "Unit 316 - num waveforms: 500 - num spikes: 1021\n",
      "Unit 317 - num waveforms: 4 - num spikes: 4\n",
      "Unit 318 - num waveforms: 78 - num spikes: 78\n",
      "Unit 319 - num waveforms: 500 - num spikes: 967\n",
      "Unit 320 - num waveforms: 500 - num spikes: 1124\n",
      "Unit 321 - num waveforms: 500 - num spikes: 1039\n",
      "Unit 322 - num waveforms: 22 - num spikes: 22\n",
      "Unit 323 - num waveforms: 500 - num spikes: 1675\n",
      "Unit 324 - num waveforms: 500 - num spikes: 8726\n",
      "Unit 325 - num waveforms: 500 - num spikes: 1268\n",
      "Unit 326 - num waveforms: 500 - num spikes: 6410\n",
      "Unit 327 - num waveforms: 500 - num spikes: 1618\n",
      "Unit 328 - num waveforms: 500 - num spikes: 8910\n",
      "Unit 329 - num waveforms: 77 - num spikes: 77\n",
      "Unit 330 - num waveforms: 500 - num spikes: 839\n",
      "Unit 331 - num waveforms: 500 - num spikes: 4742\n",
      "Unit 332 - num waveforms: 338 - num spikes: 338\n",
      "Unit 333 - num waveforms: 500 - num spikes: 1753\n",
      "Unit 334 - num waveforms: 114 - num spikes: 114\n",
      "Unit 335 - num waveforms: 500 - num spikes: 776\n",
      "Unit 336 - num waveforms: 500 - num spikes: 6072\n",
      "Unit 337 - num waveforms: 500 - num spikes: 4286\n",
      "Unit 338 - num waveforms: 154 - num spikes: 154\n",
      "Unit 339 - num waveforms: 500 - num spikes: 708\n",
      "Unit 340 - num waveforms: 196 - num spikes: 196\n",
      "Unit 341 - num waveforms: 165 - num spikes: 165\n",
      "Unit 342 - num waveforms: 500 - num spikes: 736\n",
      "Unit 343 - num waveforms: 175 - num spikes: 175\n",
      "Unit 344 - num waveforms: 500 - num spikes: 1103\n",
      "Unit 345 - num waveforms: 468 - num spikes: 468\n",
      "Unit 346 - num waveforms: 500 - num spikes: 4272\n",
      "Unit 347 - num waveforms: 500 - num spikes: 3857\n",
      "Unit 348 - num waveforms: 4 - num spikes: 4\n",
      "Unit 349 - num waveforms: 500 - num spikes: 2993\n",
      "Unit 350 - num waveforms: 24 - num spikes: 24\n",
      "Unit 351 - num waveforms: 52 - num spikes: 52\n",
      "Unit 352 - num waveforms: 500 - num spikes: 505\n",
      "Unit 353 - num waveforms: 142 - num spikes: 142\n",
      "Unit 354 - num waveforms: 247 - num spikes: 247\n"
     ]
    }
   ],
   "source": [
    "for unit in sorting_pyKS.get_unit_ids():\n",
    "    waveforms = we.get_waveforms(unit_id=unit)\n",
    "    spiketrain = sorting_pyKS.get_unit_spike_train(unit)\n",
    "    print(f\"Unit {unit} - num waveforms: {waveforms.shape[0]} - num spikes: {len(spiketrain)}\")"
   ]
  },
  {
   "cell_type": "code",
   "execution_count": 32,
   "metadata": {},
   "outputs": [
    {
     "ename": "OSError",
     "evalue": "[Errno 28] No space left on device",
     "output_type": "error",
     "traceback": [
      "\u001b[1;31m---------------------------------------------------------------------------\u001b[0m",
      "\u001b[1;31mOSError\u001b[0m                                   Traceback (most recent call last)",
      "File \u001b[1;32m~\\miniconda3\\envs\\si_env\\lib\\site-packages\\numpy\\core\\memmap.py:255\u001b[0m, in \u001b[0;36mmemmap.__new__\u001b[1;34m(subtype, filename, dtype, mode, offset, shape, order)\u001b[0m\n\u001b[0;32m    254\u001b[0m     fid\u001b[38;5;241m.\u001b[39mwrite(\u001b[38;5;124mb\u001b[39m\u001b[38;5;124m'\u001b[39m\u001b[38;5;130;01m\\0\u001b[39;00m\u001b[38;5;124m'\u001b[39m)\n\u001b[1;32m--> 255\u001b[0m     \u001b[43mfid\u001b[49m\u001b[38;5;241;43m.\u001b[39;49m\u001b[43mflush\u001b[49m\u001b[43m(\u001b[49m\u001b[43m)\u001b[49m\n\u001b[0;32m    257\u001b[0m \u001b[38;5;28;01mif\u001b[39;00m mode \u001b[38;5;241m==\u001b[39m \u001b[38;5;124m'\u001b[39m\u001b[38;5;124mc\u001b[39m\u001b[38;5;124m'\u001b[39m:\n",
      "\u001b[1;31mOSError\u001b[0m: [Errno 28] No space left on device",
      "\nDuring handling of the above exception, another exception occurred:\n",
      "\u001b[1;31mOSError\u001b[0m                                   Traceback (most recent call last)",
      "Cell \u001b[1;32mIn[32], line 1\u001b[0m\n\u001b[1;32m----> 1\u001b[0m we_all \u001b[38;5;241m=\u001b[39m si\u001b[38;5;241m.\u001b[39mextract_waveforms(recording_saved, sorting_pyKS, folder\u001b[38;5;241m=\u001b[39mbase_folder \u001b[38;5;241m/\u001b[39m \u001b[38;5;124m\"\u001b[39m\u001b[38;5;124mwaveforms_all\u001b[39m\u001b[38;5;124m\"\u001b[39m, \n\u001b[0;32m      2\u001b[0m                               max_spikes_per_unit\u001b[38;5;241m=\u001b[39m\u001b[38;5;28;01mNone\u001b[39;00m,\n\u001b[0;32m      3\u001b[0m                               overwrite\u001b[38;5;241m=\u001b[39m\u001b[38;5;28;01mTrue\u001b[39;00m,\n\u001b[0;32m      4\u001b[0m                               \u001b[38;5;241m*\u001b[39m\u001b[38;5;241m*\u001b[39mjob_kwargs)\n",
      "File \u001b[1;32m~\\miniconda3\\envs\\si_env\\lib\\site-packages\\spikeinterface\\core\\waveform_extractor.py:1388\u001b[0m, in \u001b[0;36mextract_waveforms\u001b[1;34m(recording, sorting, folder, mode, precompute_template, ms_before, ms_after, max_spikes_per_unit, overwrite, return_scaled, dtype, sparse, num_spikes_for_sparsity, allow_unfiltered, use_relative_path, seed, load_if_exists, **kwargs)\u001b[0m\n\u001b[0;32m   1384\u001b[0m we \u001b[38;5;241m=\u001b[39m WaveformExtractor\u001b[38;5;241m.\u001b[39mcreate(recording, sorting, folder, mode\u001b[38;5;241m=\u001b[39mmode, use_relative_path\u001b[38;5;241m=\u001b[39muse_relative_path,\n\u001b[0;32m   1385\u001b[0m                               allow_unfiltered\u001b[38;5;241m=\u001b[39mallow_unfiltered, sparsity\u001b[38;5;241m=\u001b[39msparsity)\n\u001b[0;32m   1386\u001b[0m we\u001b[38;5;241m.\u001b[39mset_params(ms_before\u001b[38;5;241m=\u001b[39mms_before, ms_after\u001b[38;5;241m=\u001b[39mms_after, max_spikes_per_unit\u001b[38;5;241m=\u001b[39mmax_spikes_per_unit, dtype\u001b[38;5;241m=\u001b[39mdtype,\n\u001b[0;32m   1387\u001b[0m               return_scaled\u001b[38;5;241m=\u001b[39mreturn_scaled)\n\u001b[1;32m-> 1388\u001b[0m we\u001b[38;5;241m.\u001b[39mrun_extract_waveforms(seed\u001b[38;5;241m=\u001b[39mseed, \u001b[38;5;241m*\u001b[39m\u001b[38;5;241m*\u001b[39mjob_kwargs)\n\u001b[0;32m   1390\u001b[0m \u001b[38;5;28;01mif\u001b[39;00m precompute_template \u001b[38;5;129;01mis\u001b[39;00m \u001b[38;5;129;01mnot\u001b[39;00m \u001b[38;5;28;01mNone\u001b[39;00m:\n\u001b[0;32m   1391\u001b[0m     we\u001b[38;5;241m.\u001b[39mprecompute_templates(modes\u001b[38;5;241m=\u001b[39mprecompute_template)\n",
      "File \u001b[1;32m~\\miniconda3\\envs\\si_env\\lib\\site-packages\\spikeinterface\\core\\waveform_extractor.py:1201\u001b[0m, in \u001b[0;36mWaveformExtractor.run_extract_waveforms\u001b[1;34m(self, seed, **job_kwargs)\u001b[0m\n\u001b[0;32m   1198\u001b[0m \u001b[38;5;28;01melse\u001b[39;00m:\n\u001b[0;32m   1199\u001b[0m     sparsity_mask \u001b[38;5;241m=\u001b[39m \u001b[38;5;28mself\u001b[39m\u001b[38;5;241m.\u001b[39msparsity\u001b[38;5;241m.\u001b[39mmask\n\u001b[1;32m-> 1201\u001b[0m wfs_arrays \u001b[38;5;241m=\u001b[39m extract_waveforms_to_buffers(\u001b[38;5;28mself\u001b[39m\u001b[38;5;241m.\u001b[39mrecording, spikes, unit_ids, nbefore, nafter,\n\u001b[0;32m   1202\u001b[0m                                           mode\u001b[38;5;241m=\u001b[39mmode, return_scaled\u001b[38;5;241m=\u001b[39mreturn_scaled, folder\u001b[38;5;241m=\u001b[39mwf_folder,\n\u001b[0;32m   1203\u001b[0m                                           dtype\u001b[38;5;241m=\u001b[39mp[\u001b[38;5;124m'\u001b[39m\u001b[38;5;124mdtype\u001b[39m\u001b[38;5;124m'\u001b[39m], sparsity_mask\u001b[38;5;241m=\u001b[39msparsity_mask, copy\u001b[38;5;241m=\u001b[39mcopy,\n\u001b[0;32m   1204\u001b[0m                                           \u001b[38;5;241m*\u001b[39m\u001b[38;5;241m*\u001b[39mjob_kwargs)\n\u001b[0;32m   1205\u001b[0m \u001b[38;5;28;01mif\u001b[39;00m \u001b[38;5;28mself\u001b[39m\u001b[38;5;241m.\u001b[39mfolder \u001b[38;5;129;01mis\u001b[39;00m \u001b[38;5;28;01mNone\u001b[39;00m:\n\u001b[0;32m   1206\u001b[0m     \u001b[38;5;28mself\u001b[39m\u001b[38;5;241m.\u001b[39m_memory_objects[\u001b[38;5;124m\"\u001b[39m\u001b[38;5;124mwfs_arrays\u001b[39m\u001b[38;5;124m\"\u001b[39m] \u001b[38;5;241m=\u001b[39m wfs_arrays\n",
      "File \u001b[1;32m~\\miniconda3\\envs\\si_env\\lib\\site-packages\\spikeinterface\\core\\waveform_tools.py:82\u001b[0m, in \u001b[0;36mextract_waveforms_to_buffers\u001b[1;34m(recording, spikes, unit_ids, nbefore, nafter, mode, return_scaled, folder, dtype, sparsity_mask, copy, **job_kwargs)\u001b[0m\n\u001b[0;32m     78\u001b[0m         dtype \u001b[38;5;241m=\u001b[39m \u001b[38;5;124m'\u001b[39m\u001b[38;5;124mfloat32\u001b[39m\u001b[38;5;124m'\u001b[39m\n\u001b[0;32m     79\u001b[0m dtype \u001b[38;5;241m=\u001b[39m np\u001b[38;5;241m.\u001b[39mdtype(dtype)\n\u001b[1;32m---> 82\u001b[0m wfs_arrays, wfs_arrays_info \u001b[38;5;241m=\u001b[39m \u001b[43mallocate_waveforms_buffers\u001b[49m\u001b[43m(\u001b[49m\u001b[43mrecording\u001b[49m\u001b[43m,\u001b[49m\u001b[43m \u001b[49m\u001b[43mspikes\u001b[49m\u001b[43m,\u001b[49m\u001b[43m \u001b[49m\u001b[43munit_ids\u001b[49m\u001b[43m,\u001b[49m\u001b[43m \u001b[49m\u001b[43mnbefore\u001b[49m\u001b[43m,\u001b[49m\u001b[43m \u001b[49m\u001b[43mnafter\u001b[49m\u001b[43m,\u001b[49m\u001b[43m \u001b[49m\u001b[43mmode\u001b[49m\u001b[38;5;241;43m=\u001b[39;49m\u001b[43mmode\u001b[49m\u001b[43m,\u001b[49m\n\u001b[0;32m     83\u001b[0m \u001b[43m                                                         \u001b[49m\u001b[43mfolder\u001b[49m\u001b[38;5;241;43m=\u001b[39;49m\u001b[43mfolder\u001b[49m\u001b[43m,\u001b[49m\u001b[43m \u001b[49m\u001b[43mdtype\u001b[49m\u001b[38;5;241;43m=\u001b[39;49m\u001b[43mdtype\u001b[49m\u001b[43m,\u001b[49m\u001b[43m \u001b[49m\u001b[43msparsity_mask\u001b[49m\u001b[38;5;241;43m=\u001b[39;49m\u001b[43msparsity_mask\u001b[49m\u001b[43m)\u001b[49m\n\u001b[0;32m     85\u001b[0m distribute_waveforms_to_buffers(recording, spikes, unit_ids, wfs_arrays_info, nbefore, nafter, return_scaled,\n\u001b[0;32m     86\u001b[0m                                 mode\u001b[38;5;241m=\u001b[39mmode, sparsity_mask\u001b[38;5;241m=\u001b[39msparsity_mask, \u001b[38;5;241m*\u001b[39m\u001b[38;5;241m*\u001b[39mjob_kwargs)\n\u001b[0;32m     88\u001b[0m \u001b[38;5;28;01mif\u001b[39;00m mode \u001b[38;5;241m==\u001b[39m \u001b[38;5;124m'\u001b[39m\u001b[38;5;124mmemmap\u001b[39m\u001b[38;5;124m'\u001b[39m:\n",
      "File \u001b[1;32m~\\miniconda3\\envs\\si_env\\lib\\site-packages\\spikeinterface\\core\\waveform_tools.py:162\u001b[0m, in \u001b[0;36mallocate_waveforms_buffers\u001b[1;34m(recording, spikes, unit_ids, nbefore, nafter, mode, folder, dtype, sparsity_mask)\u001b[0m\n\u001b[0;32m    160\u001b[0m \u001b[38;5;28;01mif\u001b[39;00m mode \u001b[38;5;241m==\u001b[39m \u001b[38;5;124m'\u001b[39m\u001b[38;5;124mmemmap\u001b[39m\u001b[38;5;124m'\u001b[39m:\n\u001b[0;32m    161\u001b[0m     filename \u001b[38;5;241m=\u001b[39m \u001b[38;5;28mstr\u001b[39m(folder \u001b[38;5;241m/\u001b[39m \u001b[38;5;124mf\u001b[39m\u001b[38;5;124m'\u001b[39m\u001b[38;5;124mwaveforms_\u001b[39m\u001b[38;5;132;01m{\u001b[39;00munit_id\u001b[38;5;132;01m}\u001b[39;00m\u001b[38;5;124m.npy\u001b[39m\u001b[38;5;124m'\u001b[39m)\n\u001b[1;32m--> 162\u001b[0m     arr \u001b[38;5;241m=\u001b[39m \u001b[43mnp\u001b[49m\u001b[38;5;241;43m.\u001b[39;49m\u001b[43mlib\u001b[49m\u001b[38;5;241;43m.\u001b[39;49m\u001b[43mformat\u001b[49m\u001b[38;5;241;43m.\u001b[39;49m\u001b[43mopen_memmap\u001b[49m\u001b[43m(\u001b[49m\n\u001b[0;32m    163\u001b[0m \u001b[43m        \u001b[49m\u001b[43mfilename\u001b[49m\u001b[43m,\u001b[49m\u001b[43m \u001b[49m\u001b[43mmode\u001b[49m\u001b[38;5;241;43m=\u001b[39;49m\u001b[38;5;124;43m'\u001b[39;49m\u001b[38;5;124;43mw+\u001b[39;49m\u001b[38;5;124;43m'\u001b[39;49m\u001b[43m,\u001b[49m\u001b[43m \u001b[49m\u001b[43mdtype\u001b[49m\u001b[38;5;241;43m=\u001b[39;49m\u001b[43mdtype\u001b[49m\u001b[43m,\u001b[49m\u001b[43m \u001b[49m\u001b[43mshape\u001b[49m\u001b[38;5;241;43m=\u001b[39;49m\u001b[43mshape\u001b[49m\u001b[43m)\u001b[49m\n\u001b[0;32m    164\u001b[0m     wfs_arrays[unit_id] \u001b[38;5;241m=\u001b[39m arr\n\u001b[0;32m    165\u001b[0m     wfs_arrays_info[unit_id] \u001b[38;5;241m=\u001b[39m filename\n",
      "File \u001b[1;32m~\\miniconda3\\envs\\si_env\\lib\\site-packages\\numpy\\lib\\format.py:887\u001b[0m, in \u001b[0;36mopen_memmap\u001b[1;34m(filename, mode, dtype, shape, fortran_order, version)\u001b[0m\n\u001b[0;32m    884\u001b[0m \u001b[38;5;28;01mif\u001b[39;00m mode \u001b[38;5;241m==\u001b[39m \u001b[38;5;124m'\u001b[39m\u001b[38;5;124mw+\u001b[39m\u001b[38;5;124m'\u001b[39m:\n\u001b[0;32m    885\u001b[0m     mode \u001b[38;5;241m=\u001b[39m \u001b[38;5;124m'\u001b[39m\u001b[38;5;124mr+\u001b[39m\u001b[38;5;124m'\u001b[39m\n\u001b[1;32m--> 887\u001b[0m marray \u001b[38;5;241m=\u001b[39m \u001b[43mnumpy\u001b[49m\u001b[38;5;241;43m.\u001b[39;49m\u001b[43mmemmap\u001b[49m\u001b[43m(\u001b[49m\u001b[43mfilename\u001b[49m\u001b[43m,\u001b[49m\u001b[43m \u001b[49m\u001b[43mdtype\u001b[49m\u001b[38;5;241;43m=\u001b[39;49m\u001b[43mdtype\u001b[49m\u001b[43m,\u001b[49m\u001b[43m \u001b[49m\u001b[43mshape\u001b[49m\u001b[38;5;241;43m=\u001b[39;49m\u001b[43mshape\u001b[49m\u001b[43m,\u001b[49m\u001b[43m \u001b[49m\u001b[43morder\u001b[49m\u001b[38;5;241;43m=\u001b[39;49m\u001b[43morder\u001b[49m\u001b[43m,\u001b[49m\n\u001b[0;32m    888\u001b[0m \u001b[43m    \u001b[49m\u001b[43mmode\u001b[49m\u001b[38;5;241;43m=\u001b[39;49m\u001b[43mmode\u001b[49m\u001b[43m,\u001b[49m\u001b[43m \u001b[49m\u001b[43moffset\u001b[49m\u001b[38;5;241;43m=\u001b[39;49m\u001b[43moffset\u001b[49m\u001b[43m)\u001b[49m\n\u001b[0;32m    890\u001b[0m \u001b[38;5;28;01mreturn\u001b[39;00m marray\n",
      "File \u001b[1;32m~\\miniconda3\\envs\\si_env\\lib\\site-packages\\numpy\\core\\memmap.py:284\u001b[0m, in \u001b[0;36mmemmap.__new__\u001b[1;34m(subtype, filename, dtype, mode, offset, shape, order)\u001b[0m\n\u001b[0;32m    281\u001b[0m         \u001b[38;5;28mself\u001b[39m\u001b[38;5;241m.\u001b[39mfilename \u001b[38;5;241m=\u001b[39m os\u001b[38;5;241m.\u001b[39mpath\u001b[38;5;241m.\u001b[39mabspath(fid\u001b[38;5;241m.\u001b[39mname)\n\u001b[0;32m    282\u001b[0m     \u001b[38;5;66;03m# same as memmap copies (e.g. memmap + 1)\u001b[39;00m\n\u001b[0;32m    283\u001b[0m     \u001b[38;5;28;01melse\u001b[39;00m:\n\u001b[1;32m--> 284\u001b[0m         \u001b[38;5;28mself\u001b[39m\u001b[38;5;241m.\u001b[39mfilename \u001b[38;5;241m=\u001b[39m \u001b[38;5;28;01mNone\u001b[39;00m\n\u001b[0;32m    286\u001b[0m \u001b[38;5;28;01mreturn\u001b[39;00m \u001b[38;5;28mself\u001b[39m\n",
      "\u001b[1;31mOSError\u001b[0m: [Errno 28] No space left on device"
     ]
    }
   ],
   "source": [
    "we_all = si.extract_waveforms(recording_saved, sorting_pyKS, folder=base_folder / \"waveforms_all\", \n",
    "                              max_spikes_per_unit=None,\n",
    "                              overwrite=True,\n",
    "                              **job_kwargs)"
   ]
  },
  {
   "cell_type": "code",
   "execution_count": null,
   "metadata": {},
   "outputs": [],
   "source": [
    "for unit in sorting.get_unit_ids():\n",
    "    waveforms = we_all.get_waveforms(unit_id=unit)\n",
    "    spiketrain = sorting.get_unit_spike_train(unit)\n",
    "    print(f\"Unit {unit} - num waveforms: {waveforms.shape[0]} - num spikes: {len(spiketrain)}\")"
   ]
  }
 ],
 "metadata": {
  "kernelspec": {
   "display_name": "Python 3 (ipykernel)",
   "language": "python",
   "name": "python3"
  },
  "language_info": {
   "codemirror_mode": {
    "name": "ipython",
    "version": 3
   },
   "file_extension": ".py",
   "mimetype": "text/x-python",
   "name": "python",
   "nbconvert_exporter": "python",
   "pygments_lexer": "ipython3",
   "version": "3.9.15"
  },
  "pycharm": {
   "stem_cell": {
    "cell_type": "raw",
    "metadata": {
     "collapsed": false
    },
    "source": []
   }
  }
 },
 "nbformat": 4,
 "nbformat_minor": 4
}
