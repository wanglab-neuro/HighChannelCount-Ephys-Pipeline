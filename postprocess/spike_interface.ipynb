{
 "cells": [
  {
   "cell_type": "markdown",
   "id": "78b2d1ff",
   "metadata": {},
   "source": [
    "# Exploring the AIND-ephys outputs using SpikeInterface\n",
    "\n",
    "### Notebook usage:\n",
    "- This notebook will allow you to visualize and explore the spike sorting results. \n",
    "- This is quite slow for large datasets if you are not using the curation GUI.\n",
    "- This notebook assumes some comfort with spike sorting and electrophysiology data. In addition, a basic understanding of [SpikeInterface](https://spikeinterface.readthedocs.io/en/latest/index.html) is helpful."
   ]
  },
  {
   "cell_type": "markdown",
   "id": "f928da24",
   "metadata": {},
   "source": [
    "#### Requirements:\n",
    "- processed AINDS neuropixels data\n",
    "- installation of spikeinterface - if not installed, please install SpikeInterace using the following command:\n",
    "```bash\n",
    "pip install \"spikeinterface[full, widgets]\"\n",
    "```\n",
    "\n",
    "**Note**: This notebook is based on the latest version of SpikeInterface (`spikeinterface==0.101.0`) which is under development. The API may change in the future and *is* different from the version used in the AINDS pipeline (`spikeinterface==0.100.8`). We have adapted the notebook to work with the latest version of SpikeInterface since there is a significant improvement in the API and functionality."
   ]
  },
  {
   "cell_type": "code",
   "execution_count": null,
   "id": "ff4d2fe2-bc6c-4d7f-81dd-eacb102f32cd",
   "metadata": {},
   "outputs": [],
   "source": [
    "#import packages\n",
    "import os\n",
    "import matplotlib.pyplot as plt\n",
    "import spikeinterface as si\n",
    "import spikeinterface.extractors as se\n",
    "import spikeinterface.postprocessing as spost\n",
    "import spikeinterface.widgets as sw\n",
    "from spikeinterface.curation import apply_sortingview_curation\n",
    "from spikeinterface.widgets import plot_sorting_summary"
   ]
  },
  {
   "cell_type": "code",
   "execution_count": null,
   "id": "a5e9de6e",
   "metadata": {},
   "outputs": [],
   "source": [
    "#Fetch data directories\n",
    "\n",
    "raw_rec = 'path/to/raw/recording'\n",
    "baseFolder = r\"C:\\Users\\janet\\Documents\\Tom_AINDS_output\" #edit this to the location of your data\"\n",
    "experiment = 'block0_imec0.ap_recording1_group0' #edit this to the name of your experiment folder\n",
    "\n",
    "preProcessed = baseFolder + '/preprocessed'\n",
    "postProcessed = baseFolder + '/postprocessed'\n",
    "spikes = baseFolder + '/spikesorted'\n",
    "curated = baseFolder + '/curated'\n",
    "preJSON = os.path.join(preProcessed, experiment + '.json')"
   ]
  },
  {
   "cell_type": "code",
   "execution_count": null,
   "id": "3b962ff3",
   "metadata": {},
   "outputs": [],
   "source": [
    "#Select the data to explore\n",
    "\n",
    "data_load = curated\n",
    "print(f'Set path: {data_load}')"
   ]
  },
  {
   "cell_type": "markdown",
   "id": "9b340228",
   "metadata": {},
   "source": [
    "## First, let's load the waveform extractor - we'll explore the postprocessed units which are stored in the `postprocessed` folder. These units have been processed to include the following: \n",
    "* removal of duplicate units\n",
    "* computed amplitudes\n",
    "* spike/unit locations \n",
    "* PCA\n",
    "* correlograms\n",
    "* template similarity\n",
    "* templeate metrics\n",
    "* QC metrics\n",
    "\n",
    "## The `curated` folder includes units that *have been* automatically curated by:\n",
    "* ISI violation ratio\n",
    "* presence ratio\n",
    "* amplitude cutoff"
   ]
  },
  {
   "cell_type": "markdown",
   "id": "862500d9",
   "metadata": {},
   "source": [
    "### First, load the wave forms and the sorting extractor\n",
    "*Note: we will use the back compatible version of the waveform extractor which is the `MockWaveformExtractor` that is used in the latest version of SpikeInterface"
   ]
  },
  {
   "cell_type": "code",
   "execution_count": null,
   "id": "0e400ae9-0058-40ae-bb29-f1306c2ccbbe",
   "metadata": {},
   "outputs": [],
   "source": [
    "we =  si.load_waveforms(folder=(os.path.join(postProcessed, experiment)))\n",
    "sorting_curated = si.load_extractor(os.path.join(data_load, experiment))\n",
    "we, sorting_curated"
   ]
  },
  {
   "cell_type": "markdown",
   "id": "8160bdea",
   "metadata": {},
   "source": [
    "### Each object has various extensions and attributes. You can fetch the extensions using `.get_available_extension_names()` or with `dir(object)`."
   ]
  },
  {
   "cell_type": "code",
   "execution_count": null,
   "id": "c30f7b37",
   "metadata": {},
   "outputs": [],
   "source": [
    "avail_extensions = we.get_available_extension_names()\n",
    "avail_extensions"
   ]
  },
  {
   "cell_type": "markdown",
   "id": "c7fc597a",
   "metadata": {},
   "source": [
    "### Create sorting analyzer and fetch quality metrics and unit information"
   ]
  },
  {
   "cell_type": "code",
   "execution_count": null,
   "id": "26a50d7c",
   "metadata": {},
   "outputs": [],
   "source": [
    "sorting_analyzer = we.sorting_analyzer\n",
    "\n",
    "#quality metrics\n",
    "qm=sorting_analyzer.get_extension(extension_name='quality_metrics').get_data()\n",
    "#fetch decoder labels (e.g. SUA, MUA, noise)\n",
    "labels = sorting_curated.get_property('decoder_label')\n",
    "#fetch unit ids and locations\n",
    "unit_ids = sorting_curated.get_unit_ids()\n",
    "unit_locations = sorting_analyzer.get_extension(\"unit_locations\").get_data()\n",
    "unit_locations = unit_locations[:,1]\n"
   ]
  },
  {
   "cell_type": "code",
   "execution_count": null,
   "id": "a009231a",
   "metadata": {},
   "outputs": [],
   "source": [
    "#create dataframe of all the quality metrics\n",
    "import pandas as pd\n",
    "df = pd.DataFrame(qm)\n",
    "df['unit_ids'] = unit_ids\n",
    "df['labels'] = labels\n",
    "df['unit_locations'] = unit_locations\n",
    "df"
   ]
  },
  {
   "cell_type": "code",
   "execution_count": null,
   "id": "4b0e68a5-a7da-4710-9baf-b01733115621",
   "metadata": {},
   "outputs": [],
   "source": [
    "print(\"Total units: \", len(we.unit_ids)), we.unit_ids"
   ]
  },
  {
   "cell_type": "markdown",
   "id": "dafbedbe",
   "metadata": {},
   "source": [
    "### The SpikeInterface objects stores the data for all units. Often, a list of unit_ids is needed to explore the data. Below, we will plot the waveform templates for a list of units."
   ]
  },
  {
   "cell_type": "code",
   "execution_count": null,
   "id": "221c7f36",
   "metadata": {},
   "outputs": [],
   "source": [
    "unit_ids = [0, 3] #list of unit ids to plot"
   ]
  },
  {
   "cell_type": "code",
   "execution_count": null,
   "id": "05a8103f-434e-43ad-9375-3f64542b7b41",
   "metadata": {},
   "outputs": [],
   "source": [
    "for unit_id in unit_ids:\n",
    "    fig, ax = plt.subplots()\n",
    "    template = we.get_template(unit_id=unit_id)\n",
    "    ax.plot(template)\n",
    "    ax.set_title(f'{unit_id}')\n",
    "    \n",
    "plt.show()"
   ]
  },
  {
   "cell_type": "markdown",
   "id": "2268ba7f",
   "metadata": {},
   "source": [
    "### To fetch spike trains you can use the following logic:"
   ]
  },
  {
   "cell_type": "code",
   "execution_count": null,
   "id": "0c8def7d",
   "metadata": {},
   "outputs": [],
   "source": [
    "unit_id = 1\n",
    "\n",
    "spike_extractor = si.load_extractor(os.path.join(spikes, experiment))\n",
    "\n",
    "#this returns the spike train of a single unit\n",
    "spike_extractor.get_unit_spike_train(unit_id, return_times=True)\n",
    "\n",
    "#this returns all the spike trains of all units\n",
    "spike_extractor.get_all_spike_trains(return_times=True)"
   ]
  },
  {
   "cell_type": "markdown",
   "id": "38a39f7a",
   "metadata": {},
   "source": [
    "## We hope this provides some intuition on how to explore the AINDS data using SpikeInterface. Please refer to the [SpikeInterface](https://spikeinterface.readthedocs.io/en/latest/index.html) documentation for details about API and usage."
   ]
  },
  {
   "cell_type": "markdown",
   "id": "df5cdeec",
   "metadata": {},
   "source": []
  }
 ],
 "metadata": {
  "kernelspec": {
   "display_name": "spikeinterface",
   "language": "python",
   "name": "python3"
  },
  "language_info": {
   "codemirror_mode": {
    "name": "ipython",
    "version": 3
   },
   "file_extension": ".py",
   "mimetype": "text/x-python",
   "name": "python",
   "nbconvert_exporter": "python",
   "pygments_lexer": "ipython3",
   "version": "3.10.14"
  }
 },
 "nbformat": 4,
 "nbformat_minor": 5
}
